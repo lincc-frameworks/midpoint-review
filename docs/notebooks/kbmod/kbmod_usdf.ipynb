{
 "cells": [
  {
   "cell_type": "markdown",
   "id": "74c58e60-60a2-4974-a5d5-6d92797a8f66",
   "metadata": {
    "execution": {
     "iopub.execute_input": "2025-01-23T18:54:26.198748Z",
     "iopub.status.busy": "2025-01-23T18:54:26.198402Z",
     "iopub.status.idle": "2025-01-23T18:54:26.200906Z",
     "shell.execute_reply": "2025-01-23T18:54:26.200531Z",
     "shell.execute_reply.started": "2025-01-23T18:54:26.198727Z"
    }
   },
   "source": [
    "# KBMOD Demonstration"
   ]
  },
  {
   "cell_type": "code",
   "execution_count": 1,
   "id": "318eaa60-8193-49e9-b1e1-2a3ef031a6dc",
   "metadata": {
    "execution": {
     "iopub.execute_input": "2025-01-23T17:18:01.562530Z",
     "iopub.status.busy": "2025-01-23T17:18:01.562298Z",
     "iopub.status.idle": "2025-01-23T17:18:02.108813Z",
     "shell.execute_reply": "2025-01-23T17:18:02.108321Z",
     "shell.execute_reply.started": "2025-01-23T17:18:01.562513Z"
    }
   },
   "outputs": [
    {
     "name": "stdout",
     "output_type": "stream",
     "text": [
      "Thu Jan 23 09:18:01 2025       \n",
      "+---------------------------------------------------------------------------------------+\n",
      "| NVIDIA-SMI 535.161.07             Driver Version: 535.161.07   CUDA Version: 12.2     |\n",
      "|-----------------------------------------+----------------------+----------------------+\n",
      "| GPU  Name                 Persistence-M | Bus-Id        Disp.A | Volatile Uncorr. ECC |\n",
      "| Fan  Temp   Perf          Pwr:Usage/Cap |         Memory-Usage | GPU-Util  Compute M. |\n",
      "|                                         |                      |               MIG M. |\n",
      "|=========================================+======================+======================|\n",
      "|   0  NVIDIA A100-SXM4-40GB          On  | 00000000:01:00.0 Off |                    0 |\n",
      "| N/A   34C    P0              55W / 400W |      0MiB / 40960MiB |      0%      Default |\n",
      "|                                         |                      |             Disabled |\n",
      "+-----------------------------------------+----------------------+----------------------+\n",
      "                                                                                         \n",
      "+---------------------------------------------------------------------------------------+\n",
      "| Processes:                                                                            |\n",
      "|  GPU   GI   CI        PID   Type   Process name                            GPU Memory |\n",
      "|        ID   ID                                                             Usage      |\n",
      "|=======================================================================================|\n",
      "|  No running processes found                                                           |\n",
      "+---------------------------------------------------------------------------------------+\n"
     ]
    }
   ],
   "source": [
    "# First, confirm that we have GPU access and that it has the expected RAM\n",
    "!nvidia-smi"
   ]
  },
  {
   "cell_type": "code",
   "execution_count": 2,
   "id": "381a6259-b0a3-48b5-9719-f0eb913d3d3e",
   "metadata": {
    "execution": {
     "iopub.execute_input": "2025-01-23T17:18:32.545401Z",
     "iopub.status.busy": "2025-01-23T17:18:32.545135Z",
     "iopub.status.idle": "2025-01-23T17:18:33.671728Z",
     "shell.execute_reply": "2025-01-23T17:18:33.671287Z",
     "shell.execute_reply.started": "2025-01-23T17:18:32.545382Z"
    }
   },
   "outputs": [],
   "source": [
    "# Load general libraries needed\n",
    "from astropy.time import Time\n",
    "from astropy.wcs import WCS\n",
    "from astropy.coordinates import EarthLocation\n",
    "\n",
    "import os\n",
    "homedir = '/sdf/home/c/colinc'"
   ]
  },
  {
   "cell_type": "code",
   "execution_count": 3,
   "id": "a10c60db-6fe4-4d14-bb26-bd53cc7e1fd7",
   "metadata": {
    "execution": {
     "iopub.execute_input": "2025-01-23T17:18:41.273607Z",
     "iopub.status.busy": "2025-01-23T17:18:41.273351Z",
     "iopub.status.idle": "2025-01-23T17:18:51.630163Z",
     "shell.execute_reply": "2025-01-23T17:18:51.629548Z",
     "shell.execute_reply.started": "2025-01-23T17:18:41.273590Z"
    }
   },
   "outputs": [
    {
     "name": "stdout",
     "output_type": "stream",
     "text": [
      "Processing /sdf/home/c/colinc/kbmod-usdf/kbmod\n",
      "  Installing build dependencies ... \u001b[done\n",
      "\u001b[?25h  Getting requirements to build wheel ... \u001b[?25done\n",
      "\u001b[?25h  Preparing metadata (pyproject.toml) ... \u001b[?25done\n",
      "\u001b[?25hRequirement already satisfied: astropy>=5.1 in /sdf/home/c/colinc/miniforge3/envs/kbmod/lib/python3.11/site-packages (from kbmod==1.1.1.dev1328+gb7e3ceff) (7.0.0)\n",
      "Requirement already satisfied: astroquery>=0.4.6 in /sdf/home/c/colinc/miniforge3/envs/kbmod/lib/python3.11/site-packages (from kbmod==1.1.1.dev1328+gb7e3ceff) (0.4.7)\n",
      "Requirement already satisfied: jax in /sdf/home/c/colinc/miniforge3/envs/kbmod/lib/python3.11/site-packages (from kbmod==1.1.1.dev1328+gb7e3ceff) (0.4.38)\n",
      "Requirement already satisfied: joblib>=1.4 in /sdf/home/c/colinc/miniforge3/envs/kbmod/lib/python3.11/site-packages (from kbmod==1.1.1.dev1328+gb7e3ceff) (1.4.2)\n",
      "Requirement already satisfied: matplotlib>=3.5 in /sdf/home/c/colinc/miniforge3/envs/kbmod/lib/python3.11/site-packages (from kbmod==1.1.1.dev1328+gb7e3ceff) (3.10.0)\n",
      "Requirement already satisfied: numpy<2.0 in /sdf/home/c/colinc/miniforge3/envs/kbmod/lib/python3.11/site-packages (from kbmod==1.1.1.dev1328+gb7e3ceff) (1.26.4)\n",
      "Requirement already satisfied: pandas>=1.5.1 in /sdf/home/c/colinc/miniforge3/envs/kbmod/lib/python3.11/site-packages (from kbmod==1.1.1.dev1328+gb7e3ceff) (2.2.3)\n",
      "Requirement already satisfied: reproject in /sdf/home/c/colinc/.local/lib/python3.11/site-packages (from kbmod==1.1.1.dev1328+gb7e3ceff) (0.14.1)\n",
      "Requirement already satisfied: scipy>=1.9.2 in /sdf/home/c/colinc/miniforge3/envs/kbmod/lib/python3.11/site-packages (from kbmod==1.1.1.dev1328+gb7e3ceff) (1.15.1)\n",
      "Requirement already satisfied: scikit_learn>=1.0.0 in /sdf/home/c/colinc/miniforge3/envs/kbmod/lib/python3.11/site-packages (from kbmod==1.1.1.dev1328+gb7e3ceff) (1.6.1)\n",
      "Requirement already satisfied: koffi>=0.1.1 in /sdf/home/c/colinc/.local/lib/python3.11/site-packages (from kbmod==1.1.1.dev1328+gb7e3ceff) (0.1.2)\n",
      "Requirement already satisfied: jplephem in /sdf/home/c/colinc/.local/lib/python3.11/site-packages (from kbmod==1.1.1.dev1328+gb7e3ceff) (2.22)\n",
      "Requirement already satisfied: PyYAML>=6.0 in /sdf/home/c/colinc/miniforge3/envs/kbmod/lib/python3.11/site-packages (from kbmod==1.1.1.dev1328+gb7e3ceff) (6.0.2)\n",
      "Requirement already satisfied: pyerfa>=2.0.1.1 in /sdf/home/c/colinc/miniforge3/envs/kbmod/lib/python3.11/site-packages (from astropy>=5.1->kbmod==1.1.1.dev1328+gb7e3ceff) (2.0.1.5)\n",
      "Requirement already satisfied: astropy-iers-data>=0.2024.10.28.0.34.7 in /sdf/home/c/colinc/miniforge3/envs/kbmod/lib/python3.11/site-packages (from astropy>=5.1->kbmod==1.1.1.dev1328+gb7e3ceff) (0.2025.1.13.0.34.51)\n",
      "Requirement already satisfied: packaging>=22.0.0 in /sdf/home/c/colinc/miniforge3/envs/kbmod/lib/python3.11/site-packages (from astropy>=5.1->kbmod==1.1.1.dev1328+gb7e3ceff) (24.2)\n",
      "Requirement already satisfied: requests>=2.19 in /sdf/home/c/colinc/miniforge3/envs/kbmod/lib/python3.11/site-packages (from astroquery>=0.4.6->kbmod==1.1.1.dev1328+gb7e3ceff) (2.32.3)\n",
      "Requirement already satisfied: beautifulsoup4>=4.8 in /sdf/home/c/colinc/miniforge3/envs/kbmod/lib/python3.11/site-packages (from astroquery>=0.4.6->kbmod==1.1.1.dev1328+gb7e3ceff) (4.12.3)\n",
      "Requirement already satisfied: html5lib>=0.999 in /sdf/home/c/colinc/miniforge3/envs/kbmod/lib/python3.11/site-packages (from astroquery>=0.4.6->kbmod==1.1.1.dev1328+gb7e3ceff) (1.1)\n",
      "Requirement already satisfied: keyring>=15.0 in /sdf/home/c/colinc/miniforge3/envs/kbmod/lib/python3.11/site-packages (from astroquery>=0.4.6->kbmod==1.1.1.dev1328+gb7e3ceff) (25.6.0)\n",
      "Requirement already satisfied: pyvo>=1.1 in /sdf/home/c/colinc/miniforge3/envs/kbmod/lib/python3.11/site-packages (from astroquery>=0.4.6->kbmod==1.1.1.dev1328+gb7e3ceff) (1.6)\n",
      "Requirement already satisfied: ipykernel in /sdf/home/c/colinc/miniforge3/envs/kbmod/lib/python3.11/site-packages (from koffi>=0.1.1->kbmod==1.1.1.dev1328+gb7e3ceff) (6.29.5)\n",
      "Requirement already satisfied: tqdm in /sdf/home/c/colinc/miniforge3/envs/kbmod/lib/python3.11/site-packages (from koffi>=0.1.1->kbmod==1.1.1.dev1328+gb7e3ceff) (4.67.1)\n",
      "Requirement already satisfied: contourpy>=1.0.1 in /sdf/home/c/colinc/miniforge3/envs/kbmod/lib/python3.11/site-packages (from matplotlib>=3.5->kbmod==1.1.1.dev1328+gb7e3ceff) (1.3.1)\n",
      "Requirement already satisfied: cycler>=0.10 in /sdf/home/c/colinc/miniforge3/envs/kbmod/lib/python3.11/site-packages (from matplotlib>=3.5->kbmod==1.1.1.dev1328+gb7e3ceff) (0.12.1)\n",
      "Requirement already satisfied: fonttools>=4.22.0 in /sdf/home/c/colinc/miniforge3/envs/kbmod/lib/python3.11/site-packages (from matplotlib>=3.5->kbmod==1.1.1.dev1328+gb7e3ceff) (4.55.3)\n",
      "Requirement already satisfied: kiwisolver>=1.3.1 in /sdf/home/c/colinc/miniforge3/envs/kbmod/lib/python3.11/site-packages (from matplotlib>=3.5->kbmod==1.1.1.dev1328+gb7e3ceff) (1.4.8)\n",
      "Requirement already satisfied: pillow>=8 in /sdf/home/c/colinc/miniforge3/envs/kbmod/lib/python3.11/site-packages (from matplotlib>=3.5->kbmod==1.1.1.dev1328+gb7e3ceff) (11.1.0)\n",
      "Requirement already satisfied: pyparsing>=2.3.1 in /sdf/home/c/colinc/miniforge3/envs/kbmod/lib/python3.11/site-packages (from matplotlib>=3.5->kbmod==1.1.1.dev1328+gb7e3ceff) (3.2.1)\n",
      "Requirement already satisfied: python-dateutil>=2.7 in /sdf/home/c/colinc/miniforge3/envs/kbmod/lib/python3.11/site-packages (from matplotlib>=3.5->kbmod==1.1.1.dev1328+gb7e3ceff) (2.9.0.post0)\n",
      "Requirement already satisfied: pytz>=2020.1 in /sdf/home/c/colinc/miniforge3/envs/kbmod/lib/python3.11/site-packages (from pandas>=1.5.1->kbmod==1.1.1.dev1328+gb7e3ceff) (2024.2)\n",
      "Requirement already satisfied: tzdata>=2022.7 in /sdf/home/c/colinc/miniforge3/envs/kbmod/lib/python3.11/site-packages (from pandas>=1.5.1->kbmod==1.1.1.dev1328+gb7e3ceff) (2024.2)\n",
      "Requirement already satisfied: threadpoolctl>=3.1.0 in /sdf/home/c/colinc/miniforge3/envs/kbmod/lib/python3.11/site-packages (from scikit_learn>=1.0.0->kbmod==1.1.1.dev1328+gb7e3ceff) (3.5.0)\n",
      "Requirement already satisfied: jaxlib<=0.4.38,>=0.4.38 in /sdf/home/c/colinc/miniforge3/envs/kbmod/lib/python3.11/site-packages (from jax->kbmod==1.1.1.dev1328+gb7e3ceff) (0.4.38)\n",
      "Requirement already satisfied: ml_dtypes>=0.4.0 in /sdf/home/c/colinc/miniforge3/envs/kbmod/lib/python3.11/site-packages (from jax->kbmod==1.1.1.dev1328+gb7e3ceff) (0.5.1)\n",
      "Requirement already satisfied: opt_einsum in /sdf/home/c/colinc/miniforge3/envs/kbmod/lib/python3.11/site-packages (from jax->kbmod==1.1.1.dev1328+gb7e3ceff) (3.4.0)\n",
      "Requirement already satisfied: astropy-healpix>=1.0 in /sdf/home/c/colinc/.local/lib/python3.11/site-packages (from reproject->kbmod==1.1.1.dev1328+gb7e3ceff) (1.0.3)\n",
      "Requirement already satisfied: dask>=2021.8 in /sdf/home/c/colinc/miniforge3/envs/kbmod/lib/python3.11/site-packages (from dask[array]>=2021.8->reproject->kbmod==1.1.1.dev1328+gb7e3ceff) (2024.12.1)\n",
      "Requirement already satisfied: cloudpickle in /sdf/home/c/colinc/miniforge3/envs/kbmod/lib/python3.11/site-packages (from reproject->kbmod==1.1.1.dev1328+gb7e3ceff) (3.1.1)\n",
      "Requirement already satisfied: zarr in /sdf/home/c/colinc/.local/lib/python3.11/site-packages (from reproject->kbmod==1.1.1.dev1328+gb7e3ceff) (3.0.1)\n",
      "Requirement already satisfied: fsspec in /sdf/home/c/colinc/miniforge3/envs/kbmod/lib/python3.11/site-packages (from reproject->kbmod==1.1.1.dev1328+gb7e3ceff) (2024.12.0)\n",
      "Requirement already satisfied: soupsieve>1.2 in /sdf/home/c/colinc/miniforge3/envs/kbmod/lib/python3.11/site-packages (from beautifulsoup4>=4.8->astroquery>=0.4.6->kbmod==1.1.1.dev1328+gb7e3ceff) (2.5)\n",
      "Requirement already satisfied: click>=8.1 in /sdf/home/c/colinc/miniforge3/envs/kbmod/lib/python3.11/site-packages (from dask>=2021.8->dask[array]>=2021.8->reproject->kbmod==1.1.1.dev1328+gb7e3ceff) (8.1.8)\n",
      "Requirement already satisfied: partd>=1.4.0 in /sdf/home/c/colinc/miniforge3/envs/kbmod/lib/python3.11/site-packages (from dask>=2021.8->dask[array]>=2021.8->reproject->kbmod==1.1.1.dev1328+gb7e3ceff) (1.4.2)\n",
      "Requirement already satisfied: toolz>=0.10.0 in /sdf/home/c/colinc/miniforge3/envs/kbmod/lib/python3.11/site-packages (from dask>=2021.8->dask[array]>=2021.8->reproject->kbmod==1.1.1.dev1328+gb7e3ceff) (1.0.0)\n",
      "Requirement already satisfied: importlib_metadata>=4.13.0 in /sdf/home/c/colinc/miniforge3/envs/kbmod/lib/python3.11/site-packages (from dask>=2021.8->dask[array]>=2021.8->reproject->kbmod==1.1.1.dev1328+gb7e3ceff) (8.5.0)\n",
      "Requirement already satisfied: six>=1.9 in /sdf/home/c/colinc/miniforge3/envs/kbmod/lib/python3.11/site-packages (from html5lib>=0.999->astroquery>=0.4.6->kbmod==1.1.1.dev1328+gb7e3ceff) (1.17.0)\n",
      "Requirement already satisfied: webencodings in /sdf/home/c/colinc/miniforge3/envs/kbmod/lib/python3.11/site-packages (from html5lib>=0.999->astroquery>=0.4.6->kbmod==1.1.1.dev1328+gb7e3ceff) (0.5.1)\n",
      "Requirement already satisfied: SecretStorage>=3.2 in /sdf/home/c/colinc/miniforge3/envs/kbmod/lib/python3.11/site-packages (from keyring>=15.0->astroquery>=0.4.6->kbmod==1.1.1.dev1328+gb7e3ceff) (3.3.3)\n",
      "Requirement already satisfied: jeepney>=0.4.2 in /sdf/home/c/colinc/miniforge3/envs/kbmod/lib/python3.11/site-packages (from keyring>=15.0->astroquery>=0.4.6->kbmod==1.1.1.dev1328+gb7e3ceff) (0.8.0)\n",
      "Requirement already satisfied: jaraco.classes in /sdf/home/c/colinc/miniforge3/envs/kbmod/lib/python3.11/site-packages (from keyring>=15.0->astroquery>=0.4.6->kbmod==1.1.1.dev1328+gb7e3ceff) (3.4.0)\n",
      "Requirement already satisfied: jaraco.functools in /sdf/home/c/colinc/miniforge3/envs/kbmod/lib/python3.11/site-packages (from keyring>=15.0->astroquery>=0.4.6->kbmod==1.1.1.dev1328+gb7e3ceff) (4.1.0)\n",
      "Requirement already satisfied: jaraco.context in /sdf/home/c/colinc/miniforge3/envs/kbmod/lib/python3.11/site-packages (from keyring>=15.0->astroquery>=0.4.6->kbmod==1.1.1.dev1328+gb7e3ceff) (6.0.1)\n",
      "Requirement already satisfied: charset_normalizer<4,>=2 in /sdf/home/c/colinc/miniforge3/envs/kbmod/lib/python3.11/site-packages (from requests>=2.19->astroquery>=0.4.6->kbmod==1.1.1.dev1328+gb7e3ceff) (3.4.1)\n",
      "Requirement already satisfied: idna<4,>=2.5 in /sdf/home/c/colinc/miniforge3/envs/kbmod/lib/python3.11/site-packages (from requests>=2.19->astroquery>=0.4.6->kbmod==1.1.1.dev1328+gb7e3ceff) (3.10)\n",
      "Requirement already satisfied: urllib3<3,>=1.21.1 in /sdf/home/c/colinc/miniforge3/envs/kbmod/lib/python3.11/site-packages (from requests>=2.19->astroquery>=0.4.6->kbmod==1.1.1.dev1328+gb7e3ceff) (2.3.0)\n",
      "Requirement already satisfied: certifi>=2017.4.17 in /sdf/home/c/colinc/miniforge3/envs/kbmod/lib/python3.11/site-packages (from requests>=2.19->astroquery>=0.4.6->kbmod==1.1.1.dev1328+gb7e3ceff) (2024.12.14)\n",
      "Requirement already satisfied: comm>=0.1.1 in /sdf/home/c/colinc/miniforge3/envs/kbmod/lib/python3.11/site-packages (from ipykernel->koffi>=0.1.1->kbmod==1.1.1.dev1328+gb7e3ceff) (0.2.2)\n",
      "Requirement already satisfied: debugpy>=1.6.5 in /sdf/home/c/colinc/miniforge3/envs/kbmod/lib/python3.11/site-packages (from ipykernel->koffi>=0.1.1->kbmod==1.1.1.dev1328+gb7e3ceff) (1.8.11)\n",
      "Requirement already satisfied: ipython>=7.23.1 in /sdf/home/c/colinc/miniforge3/envs/kbmod/lib/python3.11/site-packages (from ipykernel->koffi>=0.1.1->kbmod==1.1.1.dev1328+gb7e3ceff) (8.31.0)\n",
      "Requirement already satisfied: jupyter-client>=6.1.12 in /sdf/home/c/colinc/miniforge3/envs/kbmod/lib/python3.11/site-packages (from ipykernel->koffi>=0.1.1->kbmod==1.1.1.dev1328+gb7e3ceff) (8.6.3)\n",
      "Requirement already satisfied: jupyter-core!=5.0.*,>=4.12 in /sdf/home/c/colinc/miniforge3/envs/kbmod/lib/python3.11/site-packages (from ipykernel->koffi>=0.1.1->kbmod==1.1.1.dev1328+gb7e3ceff) (5.7.2)\n",
      "Requirement already satisfied: matplotlib-inline>=0.1 in /sdf/home/c/colinc/miniforge3/envs/kbmod/lib/python3.11/site-packages (from ipykernel->koffi>=0.1.1->kbmod==1.1.1.dev1328+gb7e3ceff) (0.1.7)\n",
      "Requirement already satisfied: nest-asyncio in /sdf/home/c/colinc/miniforge3/envs/kbmod/lib/python3.11/site-packages (from ipykernel->koffi>=0.1.1->kbmod==1.1.1.dev1328+gb7e3ceff) (1.6.0)\n",
      "Requirement already satisfied: psutil in /sdf/home/c/colinc/miniforge3/envs/kbmod/lib/python3.11/site-packages (from ipykernel->koffi>=0.1.1->kbmod==1.1.1.dev1328+gb7e3ceff) (6.1.1)\n",
      "Requirement already satisfied: pyzmq>=24 in /sdf/home/c/colinc/miniforge3/envs/kbmod/lib/python3.11/site-packages (from ipykernel->koffi>=0.1.1->kbmod==1.1.1.dev1328+gb7e3ceff) (26.2.0)\n",
      "Requirement already satisfied: tornado>=6.1 in /sdf/home/c/colinc/miniforge3/envs/kbmod/lib/python3.11/site-packages (from ipykernel->koffi>=0.1.1->kbmod==1.1.1.dev1328+gb7e3ceff) (6.4.2)\n",
      "Requirement already satisfied: traitlets>=5.4.0 in /sdf/home/c/colinc/miniforge3/envs/kbmod/lib/python3.11/site-packages (from ipykernel->koffi>=0.1.1->kbmod==1.1.1.dev1328+gb7e3ceff) (5.14.3)\n",
      "Requirement already satisfied: donfig>=0.8 in /sdf/home/c/colinc/.local/lib/python3.11/site-packages (from zarr->reproject->kbmod==1.1.1.dev1328+gb7e3ceff) (0.8.1.post1)\n",
      "Requirement already satisfied: numcodecs>=0.14 in /sdf/home/c/colinc/.local/lib/python3.11/site-packages (from numcodecs[crc32c]>=0.14->zarr->reproject->kbmod==1.1.1.dev1328+gb7e3ceff) (0.15.0)\n",
      "Requirement already satisfied: typing-extensions>=4.9 in /sdf/home/c/colinc/miniforge3/envs/kbmod/lib/python3.11/site-packages (from zarr->reproject->kbmod==1.1.1.dev1328+gb7e3ceff) (4.12.2)\n",
      "Requirement already satisfied: zipp>=3.20 in /sdf/home/c/colinc/miniforge3/envs/kbmod/lib/python3.11/site-packages (from importlib_metadata>=4.13.0->dask>=2021.8->dask[array]>=2021.8->reproject->kbmod==1.1.1.dev1328+gb7e3ceff) (3.21.0)\n",
      "Requirement already satisfied: decorator in /sdf/home/c/colinc/miniforge3/envs/kbmod/lib/python3.11/site-packages (from ipython>=7.23.1->ipykernel->koffi>=0.1.1->kbmod==1.1.1.dev1328+gb7e3ceff) (5.1.1)\n",
      "Requirement already satisfied: jedi>=0.16 in /sdf/home/c/colinc/miniforge3/envs/kbmod/lib/python3.11/site-packages (from ipython>=7.23.1->ipykernel->koffi>=0.1.1->kbmod==1.1.1.dev1328+gb7e3ceff) (0.19.2)\n",
      "Requirement already satisfied: pexpect>4.3 in /sdf/home/c/colinc/miniforge3/envs/kbmod/lib/python3.11/site-packages (from ipython>=7.23.1->ipykernel->koffi>=0.1.1->kbmod==1.1.1.dev1328+gb7e3ceff) (4.9.0)\n",
      "Requirement already satisfied: prompt_toolkit<3.1.0,>=3.0.41 in /sdf/home/c/colinc/miniforge3/envs/kbmod/lib/python3.11/site-packages (from ipython>=7.23.1->ipykernel->koffi>=0.1.1->kbmod==1.1.1.dev1328+gb7e3ceff) (3.0.48)\n",
      "Requirement already satisfied: pygments>=2.4.0 in /sdf/home/c/colinc/miniforge3/envs/kbmod/lib/python3.11/site-packages (from ipython>=7.23.1->ipykernel->koffi>=0.1.1->kbmod==1.1.1.dev1328+gb7e3ceff) (2.19.1)\n",
      "Requirement already satisfied: stack_data in /sdf/home/c/colinc/miniforge3/envs/kbmod/lib/python3.11/site-packages (from ipython>=7.23.1->ipykernel->koffi>=0.1.1->kbmod==1.1.1.dev1328+gb7e3ceff) (0.6.3)\n",
      "Requirement already satisfied: platformdirs>=2.5 in /sdf/home/c/colinc/miniforge3/envs/kbmod/lib/python3.11/site-packages (from jupyter-core!=5.0.*,>=4.12->ipykernel->koffi>=0.1.1->kbmod==1.1.1.dev1328+gb7e3ceff) (4.3.6)\n",
      "Requirement already satisfied: deprecated in /sdf/home/c/colinc/miniforge3/envs/kbmod/lib/python3.11/site-packages (from numcodecs>=0.14->numcodecs[crc32c]>=0.14->zarr->reproject->kbmod==1.1.1.dev1328+gb7e3ceff) (1.2.15)\n",
      "Requirement already satisfied: crc32c>=2.7 in /sdf/home/c/colinc/.local/lib/python3.11/site-packages (from numcodecs[crc32c]>=0.14->zarr->reproject->kbmod==1.1.1.dev1328+gb7e3ceff) (2.7.1)\n",
      "Requirement already satisfied: locket in /sdf/home/c/colinc/miniforge3/envs/kbmod/lib/python3.11/site-packages (from partd>=1.4.0->dask>=2021.8->dask[array]>=2021.8->reproject->kbmod==1.1.1.dev1328+gb7e3ceff) (1.0.0)\n",
      "Requirement already satisfied: cryptography>=2.0 in /sdf/home/c/colinc/miniforge3/envs/kbmod/lib/python3.11/site-packages (from SecretStorage>=3.2->keyring>=15.0->astroquery>=0.4.6->kbmod==1.1.1.dev1328+gb7e3ceff) (44.0.0)\n",
      "Requirement already satisfied: more-itertools in /sdf/home/c/colinc/miniforge3/envs/kbmod/lib/python3.11/site-packages (from jaraco.classes->keyring>=15.0->astroquery>=0.4.6->kbmod==1.1.1.dev1328+gb7e3ceff) (10.6.0)\n",
      "Requirement already satisfied: backports.tarfile in /sdf/home/c/colinc/miniforge3/envs/kbmod/lib/python3.11/site-packages (from jaraco.context->keyring>=15.0->astroquery>=0.4.6->kbmod==1.1.1.dev1328+gb7e3ceff) (1.2.0)\n",
      "Requirement already satisfied: cffi>=1.12 in /sdf/home/c/colinc/miniforge3/envs/kbmod/lib/python3.11/site-packages (from cryptography>=2.0->SecretStorage>=3.2->keyring>=15.0->astroquery>=0.4.6->kbmod==1.1.1.dev1328+gb7e3ceff) (1.17.1)\n",
      "Requirement already satisfied: parso<0.9.0,>=0.8.4 in /sdf/home/c/colinc/miniforge3/envs/kbmod/lib/python3.11/site-packages (from jedi>=0.16->ipython>=7.23.1->ipykernel->koffi>=0.1.1->kbmod==1.1.1.dev1328+gb7e3ceff) (0.8.4)\n",
      "Requirement already satisfied: ptyprocess>=0.5 in /sdf/home/c/colinc/miniforge3/envs/kbmod/lib/python3.11/site-packages (from pexpect>4.3->ipython>=7.23.1->ipykernel->koffi>=0.1.1->kbmod==1.1.1.dev1328+gb7e3ceff) (0.7.0)\n",
      "Requirement already satisfied: wcwidth in /sdf/home/c/colinc/miniforge3/envs/kbmod/lib/python3.11/site-packages (from prompt_toolkit<3.1.0,>=3.0.41->ipython>=7.23.1->ipykernel->koffi>=0.1.1->kbmod==1.1.1.dev1328+gb7e3ceff) (0.2.13)\n",
      "Requirement already satisfied: wrapt<2,>=1.10 in /sdf/home/c/colinc/miniforge3/envs/kbmod/lib/python3.11/site-packages (from deprecated->numcodecs>=0.14->numcodecs[crc32c]>=0.14->zarr->reproject->kbmod==1.1.1.dev1328+gb7e3ceff) (1.17.2)\n",
      "Requirement already satisfied: executing>=1.2.0 in /sdf/home/c/colinc/miniforge3/envs/kbmod/lib/python3.11/site-packages (from stack_data->ipython>=7.23.1->ipykernel->koffi>=0.1.1->kbmod==1.1.1.dev1328+gb7e3ceff) (2.1.0)\n",
      "Requirement already satisfied: asttokens>=2.1.0 in /sdf/home/c/colinc/miniforge3/envs/kbmod/lib/python3.11/site-packages (from stack_data->ipython>=7.23.1->ipykernel->koffi>=0.1.1->kbmod==1.1.1.dev1328+gb7e3ceff) (3.0.0)\n",
      "Requirement already satisfied: pure_eval in /sdf/home/c/colinc/miniforge3/envs/kbmod/lib/python3.11/site-packages (from stack_data->ipython>=7.23.1->ipykernel->koffi>=0.1.1->kbmod==1.1.1.dev1328+gb7e3ceff) (0.2.3)\n",
      "Requirement already satisfied: pycparser in /sdf/home/c/colinc/miniforge3/envs/kbmod/lib/python3.11/site-packages (from cffi>=1.12->cryptography>=2.0->SecretStorage>=3.2->keyring>=15.0->astroquery>=0.4.6->kbmod==1.1.1.dev1328+gb7e3ceff) (2.22)\n",
      "Building wheels for collected packages: kbmod\n",
      "  Building wheel for kbmod (pyproject.toml) ...done\n",
      "\u001b[?25h  Created wheel for kbmod: filename=kbmod-1.1.1.dev1328+gb7e3ceff-cp311-cp311-linux_x86_64.whl size=832840 sha256=e3d886e3803c39f13962df05b4366d40bb3d22a6449a35dcbdf8b1ff491e9a51\n",
      "  Stored in directory: /lscratch/colinc/pip-ephem-wheel-cache-6p9qnkl3/wheels/fa/50/f3/f10f5e1f90667941c1d13952117872c037d38a5da63eadfbd8\n",
      "Successfully built kbmod\n",
      "Installing collected packages: kbmod\n",
      "  Attempting uninstall: kbmod\n",
      "    Found existing installation: kbmod 1.1.1.dev1301+g74366154\n",
      "    Uninstalling kbmod-1.1.1.dev1301+g74366154:\n",
      "      Successfully uninstalled kbmod-1.1.1.dev1301+g74366154\n",
      "Successfully installed kbmod-1.1.1.dev1328+gb7e3ceff\n"
     ]
    }
   ],
   "source": [
    "# Install kbmod capable of running in this Jupyter session\n",
    "cwd = os.getcwd()\n",
    "os.chdir(homedir)\n",
    "kbmod_usdf_dir = 'kbmod-usdf'\n",
    "os.makedirs(kbmod_usdf_dir,exist_ok=True)\n",
    "os.chdir(kbmod_usdf_dir)\n",
    "#!get_kbmod_again.sh\n",
    "os.chdir('kbmod')\n",
    "!pip install .\n",
    "os.chdir(cwd)"
   ]
  },
  {
   "cell_type": "code",
   "execution_count": 19,
   "id": "1a635347-5c48-44d1-9412-21cf261f21c8",
   "metadata": {
    "execution": {
     "iopub.execute_input": "2025-01-23T18:34:51.178783Z",
     "iopub.status.busy": "2025-01-23T18:34:51.178503Z",
     "iopub.status.idle": "2025-01-23T18:34:51.181469Z",
     "shell.execute_reply": "2025-01-23T18:34:51.181037Z",
     "shell.execute_reply.started": "2025-01-23T18:34:51.178766Z"
    }
   },
   "outputs": [],
   "source": [
    "# import the neeeded kbmod components\n",
    "import kbmod\n",
    "import kbmod.reprojection as reprojection\n",
    "from kbmod.results import Results\n",
    "from kbmod.analysis.plotting import *\n",
    "from kbmod.analysis.visualizer import Visualizer\n",
    "from kbmod.configuration import SearchConfiguration"
   ]
  },
  {
   "cell_type": "code",
   "execution_count": 5,
   "id": "6a29a5ae-4f94-4d49-a1f1-921a1ace5f28",
   "metadata": {
    "execution": {
     "iopub.execute_input": "2025-01-23T17:21:48.566183Z",
     "iopub.status.busy": "2025-01-23T17:21:48.565986Z",
     "iopub.status.idle": "2025-01-23T17:21:48.569134Z",
     "shell.execute_reply": "2025-01-23T17:21:48.568716Z",
     "shell.execute_reply.started": "2025-01-23T17:21:48.566166Z"
    }
   },
   "outputs": [],
   "source": [
    "# Paths and filename strings we will need\n",
    "\n",
    "# This is an ImageCollection, output by kbmod.ImageCollection\n",
    "colfile = '/sdf/home/c/colinc/rubin-user/20X20_patch250060/tno_2013_TA228_ComCam_w50_20x20_patch250060_betterIDs.collection'\n",
    "\n",
    "# This is the Work Unit that contains both metadata and image data\n",
    "# Presently, this must be generated from an interactive session on a USDF compute node capable of accessing both the USDF Butler and kbmod\n",
    "wu_file = 'tno_2013_TA228_ComCam_w50_20x20_patch110571_wu.fits'\n",
    "\n",
    "# The working directory where images and other input and output files will be located\n",
    "workdir = os.path.dirname(colfile) # '/sdf/home/c/colinc/rubin-user/20X20_patch250060'\n",
    "os.makedirs(workdir, exist_ok=True)\n",
    "\n",
    "configfile = f'{workdir}/search_config_deep_20250122_39au_a.yaml'\n",
    "\n",
    "#  directory_containing_shards, wu_filename = os.path.split(f'{workdir}/{wu_file}')\n",
    "\n",
    "repro_shard_dir = os.path.join(workdir, 'repro') # directory_containing_shards+'/repro'\n",
    "os.makedirs(repro_shard_dir, exist_ok=True)"
   ]
  },
  {
   "cell_type": "code",
   "execution_count": 6,
   "id": "ced68bb3-370e-49d9-848c-91799ebb05ca",
   "metadata": {
    "execution": {
     "iopub.execute_input": "2025-01-23T17:22:30.290163Z",
     "iopub.status.busy": "2025-01-23T17:22:30.289971Z",
     "iopub.status.idle": "2025-01-23T17:22:30.292491Z",
     "shell.execute_reply": "2025-01-23T17:22:30.292094Z",
     "shell.execute_reply.started": "2025-01-23T17:22:30.290147Z"
    }
   },
   "outputs": [],
   "source": [
    "# this is the \"guess distance\" in astronomical units for our reflex-correction and reprojection routines\n",
    "guess_dist = 39 # au"
   ]
  },
  {
   "cell_type": "code",
   "execution_count": 8,
   "id": "0ef77c16-a494-4c79-a95c-06a352ba4291",
   "metadata": {
    "execution": {
     "iopub.execute_input": "2025-01-23T17:23:07.826079Z",
     "iopub.status.busy": "2025-01-23T17:23:07.825786Z",
     "iopub.status.idle": "2025-01-23T17:23:07.873576Z",
     "shell.execute_reply": "2025-01-23T17:23:07.873083Z",
     "shell.execute_reply.started": "2025-01-23T17:23:07.826061Z"
    }
   },
   "outputs": [
    {
     "name": "stdout",
     "output_type": "stream",
     "text": [
      "Read 249 rows from /sdf/home/c/colinc/rubin-user/20X20_patch250060/tno_2013_TA228_ComCam_w50_20x20_patch250060_betterIDs.collection.\n"
     ]
    }
   ],
   "source": [
    "# Load the ImageCollection\n",
    "ic = kbmod.ImageCollection.read(colfile)\n",
    "print(f'Read {len(ic)} rows from {colfile}.')"
   ]
  },
  {
   "cell_type": "code",
   "execution_count": 9,
   "id": "5bb1f5eb-4bc0-4fce-b7ef-b33e9432cc43",
   "metadata": {
    "execution": {
     "iopub.execute_input": "2025-01-23T17:23:22.572098Z",
     "iopub.status.busy": "2025-01-23T17:23:22.571893Z",
     "iopub.status.idle": "2025-01-23T17:23:22.583208Z",
     "shell.execute_reply": "2025-01-23T17:23:22.582773Z",
     "shell.execute_reply.started": "2025-01-23T17:23:22.572080Z"
    }
   },
   "outputs": [
    {
     "data": {
      "text/html": [
       "<i>Row index=0</i>\n",
       "<table id=\"table140480554423184\">\n",
       "<thead><tr><th>dataId</th><th>visit</th><th>detector</th><th>band</th><th>filter</th><th>mjd_start</th><th>mjd_mid</th><th>object</th><th>pointing_ra</th><th>pointing_dec</th><th>airmass</th><th>wcs_err</th><th>ra</th><th>dec</th><th>ra_bl</th><th>dec_bl</th><th>ra_tl</th><th>dec_tl</th><th>ra_tr</th><th>dec_tr</th><th>ra_br</th><th>dec_br</th><th>psfSigma</th><th>psfArea</th><th>nPsfStar</th><th>zeroPoint</th><th>skyBg</th><th>skyNoise</th><th>meanVar</th><th>OBSID</th><th>wcs</th><th>exposureTime</th><th>collection</th><th>datasetType</th><th>obs_lon</th><th>obs_lat</th><th>obs_elev</th><th>astromOffsetMean</th><th>astromOffsetStd</th><th>DIMM2SEE</th><th>global_wcs</th><th>global_wcs_pixel_shape_0</th><th>global_wcs_pixel_shape_1</th></tr></thead>\n",
       "<thead><tr><th>str36</th><th>int64</th><th>int64</th><th>str1</th><th>str4</th><th>float64</th><th>float64</th><th>str13</th><th>float64</th><th>float64</th><th>float64</th><th>float64</th><th>float64</th><th>float64</th><th>float64</th><th>float64</th><th>float64</th><th>float64</th><th>float64</th><th>float64</th><th>float64</th><th>float64</th><th>float64</th><th>float64</th><th>int64</th><th>float64</th><th>float64</th><th>float64</th><th>float64</th><th>str20</th><th>str1248</th><th>float64</th><th>str56</th><th>str28</th><th>float64</th><th>float64</th><th>float64</th><th>float64</th><th>float64</th><th>float64</th><th>str2880</th><th>int64</th><th>int64</th></tr></thead>\n",
       "<tr><td>615b2f69-ba41-4d4b-b29b-a807e7a3ac82</td><td>2024112600134</td><td>8</td><td>i</td><td>i_06</td><td>60641.08122699644</td><td>60641.08140639459</td><td>Rubin_SV_38_7</td><td>38.0653955028628</td><td>6.52826805904292</td><td>1.28850130948918</td><td>-3.090860900556436e-12</td><td>38.18728959931873</td><td>6.2575399328953285</td><td>38.13367905883207</td><td>6.407125257662862</td><td>38.03592432637463</td><td>6.206883852393906</td><td>38.24092893534934</td><td>6.107783069946998</td><td>38.33871170185693</td><td>6.30809586582424</td><td>2.1870157927318044</td><td>67.46518367993608</td><td>102</td><td>31.76327910494223</td><td>2581.0746131539345</td><td>52.993192583897475</td><td>2795.876509900088</td><td>CC_O_20241126_000134</td><td>{&quot;WCSAXES&quot;:2,&quot;CRPIX1&quot;:2104.234496,&quot;CRPIX2&quot;:2090.780895,&quot;PC1_1&quot;:5.0049364571068e-05,&quot;PC1_2&quot;:-2.4296678395023e-05,&quot;PC2_1&quot;:-2.4329910755198e-05,&quot;PC2_2&quot;:-5.0071238405668e-05,&quot;CDELT1&quot;:1.0,&quot;CDELT2&quot;:1.0,&quot;CUNIT1&quot;:&quot;deg&quot;,&quot;CUNIT2&quot;:&quot;deg&quot;,&quot;CTYPE1&quot;:&quot;RA---TAN-SIP&quot;,&quot;CTYPE2&quot;:&quot;DEC--TAN-SIP&quot;,&quot;CRVAL1&quot;:38.188480325674,&quot;CRVAL2&quot;:6.2514088148071,&quot;LONPOLE&quot;:180.0,&quot;LATPOLE&quot;:6.2514088148071,&quot;MJDREF&quot;:0.0,&quot;RADESYS&quot;:&quot;ICRS&quot;,&quot;A_ORDER&quot;:2,&quot;A_0_2&quot;:5.71380993437748e-08,&quot;A_1_1&quot;:8.4138548688458e-08,&quot;A_2_0&quot;:1.34602072087139e-07,&quot;B_ORDER&quot;:2,&quot;B_0_2&quot;:1.29922197020279e-07,&quot;B_1_1&quot;:9.30259268861285e-08,&quot;B_2_0&quot;:5.08093732261702e-08,&quot;AP_ORDER&quot;:3,&quot;AP_0_0&quot;:2.38650612711241e-07,&quot;AP_0_1&quot;:-1.9773730332761e-11,&quot;AP_0_2&quot;:-5.7138214915058e-08,&quot;AP_0_3&quot;:1.96568954030525e-14,&quot;AP_1_0&quot;:-2.9495295095216e-11,&quot;AP_1_1&quot;:-8.4138741264852e-08,&quot;AP_1_2&quot;:4.40296314635341e-14,&quot;AP_2_0&quot;:-1.3460222841301e-07,&quot;AP_2_1&quot;:4.76169097340427e-14,&quot;AP_3_0&quot;:4.05162046764094e-14,&quot;BP_ORDER&quot;:3,&quot;BP_0_0&quot;:2.2872495540209e-07,&quot;BP_0_1&quot;:-2.0712098702801e-11,&quot;BP_0_2&quot;:-1.2992234828618e-07,&quot;BP_0_3&quot;:3.90781540503791e-14,&quot;BP_1_0&quot;:-2.15361705159e-11,&quot;BP_1_1&quot;:-9.3026118127959e-08,&quot;BP_1_2&quot;:4.98983852539292e-14,&quot;BP_2_0&quot;:-5.080948323256e-08,&quot;BP_2_1&quot;:4.29343119560157e-14,&quot;BP_3_0&quot;:1.84076385356384e-14,&quot;NAXIS1&quot;:4072,&quot;NAXIS2&quot;:4000}</td><td>30.0</td><td>LSSTComCam/runs/DRP/20241101_20241211/w_2024_50/DM-48128</td><td>goodSeeingDiff_differenceExp</td><td>-70.7494170285165</td><td>-30.2446389756252</td><td>2662.99616375123</td><td>nan</td><td>nan</td><td>0.0</td><td>WCSAXES =                    2 / Number of coordinate axes                      CRPIX1  =               3000.0 / Pixel coordinate of reference point            CRPIX2  =               3000.0 / Pixel coordinate of reference point            CDELT1  = -5.5555555555556E-05 / [deg] Coordinate increment at reference point  CDELT2  =  5.5555555555556E-05 / [deg] Coordinate increment at reference point  CUNIT1  = &apos;deg&apos;                / Units of coordinate increment and value        CUNIT2  = &apos;deg&apos;                / Units of coordinate increment and value        CTYPE1  = &apos;RA---TAN&apos;           / Right ascension, gnomonic projection           CTYPE2  = &apos;DEC--TAN&apos;           / Declination, gnomonic projection               CRVAL1  =      38.666666666667 / [deg] Coordinate value at reference point      CRVAL2  =      6.8333333333333 / [deg] Coordinate value at reference point      LONPOLE =                180.0 / [deg] Native longitude of celestial pole       LATPOLE =      6.8333333333333 / [deg] Native latitude of celestial pole        MJDREF  =                  0.0 / [d] MJD of fiducial time                       RADESYS = &apos;ICRS&apos;               / Equatorial coordinate system                   END</td><td>6000</td><td>6000</td></tr>\n",
       "</table>"
      ],
      "text/plain": [
       "<Row index=0>\n",
       "               dataId                    visit     detector band filter     mjd_start          mjd_mid          object      pointing_ra      pointing_dec       airmass             wcs_err                 ra               dec               ra_bl             dec_bl            ra_tl             dec_tl            ra_tr             dec_tr            ra_br            dec_br           psfSigma           psfArea      nPsfStar     zeroPoint           skyBg             skyNoise           meanVar             OBSID                                                                                                                                                                                                                                                                                                                                                                                                                                                                                                                                                                                                                                                     wcs                                                                                                                                                                                                                                                                                                                                                                                                                                                                                                                                                                                                                                             exposureTime                        collection                                datasetType               obs_lon           obs_lat          obs_elev     astromOffsetMean astromOffsetStd DIMM2SEE                                                                                                                                                                                                                                                                                                                                                                                                                                                                                                                                                                                                                                                                                                                                                                                                                                                                                                                                                                                                                                                                                                                                                                                                                                                                                                                                                                                                                                                                                            global_wcs                                                                                                                                                                                                                                                                                                                                                                                                                                                                                                                                                                                                                                                                                                                                                                                                                                                                                                                                                                                                                                                                                                                                                                                                                                                                                                                                                                                                                                                                                            global_wcs_pixel_shape_0 global_wcs_pixel_shape_1\n",
       "               str36                     int64      int64   str1  str4       float64           float64          str13         float64          float64          float64             float64              float64           float64            float64           float64           float64           float64           float64           float64           float64          float64           float64            float64       int64        float64           float64            float64            float64             str20                                                                                                                                                                                                                                                                                                                                                                                                                                                                                                                                                                                                                                                   str1248                                                                                                                                                                                                                                                                                                                                                                                                                                                                                                                                                                                                                                             float64                             str56                                      str28                  float64           float64          float64          float64          float64     float64                                                                                                                                                                                                                                                                                                                                                                                                                                                                                                                                                                                                                                                                                                                                                                                                                                                                                                                                                                                                                                                                                                                                                                                                                                                                                                                                                                                                                                                                                              str2880                                                                                                                                                                                                                                                                                                                                                                                                                                                                                                                                                                                                                                                                                                                                                                                                                                                                                                                                                                                                                                                                                                                                                                                                                                                                                                                                                                                                                                                                                                       int64                    int64          \n",
       "------------------------------------ ------------- -------- ---- ------ ----------------- ----------------- ------------- ---------------- ---------------- ---------------- ---------------------- ----------------- ------------------ ----------------- ----------------- ----------------- ----------------- ----------------- ----------------- ----------------- ---------------- ------------------ ----------------- -------- ----------------- ------------------ ------------------ ----------------- -------------------- ------------------------------------------------------------------------------------------------------------------------------------------------------------------------------------------------------------------------------------------------------------------------------------------------------------------------------------------------------------------------------------------------------------------------------------------------------------------------------------------------------------------------------------------------------------------------------------------------------------------------------------------------------------------------------------------------------------------------------------------------------------------------------------------------------------------------------------------------------------------------------------------------------------------------------------------------------------------------------------------------------------------------------------------------------------------------------------------------------------------------------------------------------------------------------------------------------------------------------------------------------------------------------------------- ------------ -------------------------------------------------------- ---------------------------- ----------------- ----------------- ---------------- ---------------- --------------- -------- ------------------------------------------------------------------------------------------------------------------------------------------------------------------------------------------------------------------------------------------------------------------------------------------------------------------------------------------------------------------------------------------------------------------------------------------------------------------------------------------------------------------------------------------------------------------------------------------------------------------------------------------------------------------------------------------------------------------------------------------------------------------------------------------------------------------------------------------------------------------------------------------------------------------------------------------------------------------------------------------------------------------------------------------------------------------------------------------------------------------------------------------------------------------------------------------------------------------------------------------------------------------------------------------------------------------------------------------------------------------------------------------------------------------------------------------------------------------------------------------------------------------------------------------------------------------------------------------------------------------------------------------------------------------------------------------------------------------------------------------------------------------------------------------------------------------------------------------------------------------------------------------------------------------------------------------------------------------------------------------------------------------------------------------------------------------------------------------------------------------------------------------------------------------------------------------------------------------------------------------------------------------------------------------------------------------------------------------------------------------------------------------------------------------------------------------------------------------------------------------------------------------------------------------------------------------------------------------------------------------------------------------------------------------------------------------------------------------------------------------------------------------------------------------------------------------------------------------------------------------------------------------------------------------------------------------------------------------------------------------------ ------------------------ ------------------------\n",
       "615b2f69-ba41-4d4b-b29b-a807e7a3ac82 2024112600134        8    i   i_06 60641.08122699644 60641.08140639459 Rubin_SV_38_7 38.0653955028628 6.52826805904292 1.28850130948918 -3.090860900556436e-12 38.18728959931873 6.2575399328953285 38.13367905883207 6.407125257662862 38.03592432637463 6.206883852393906 38.24092893534934 6.107783069946998 38.33871170185693 6.30809586582424 2.1870157927318044 67.46518367993608      102 31.76327910494223 2581.0746131539345 52.993192583897475 2795.876509900088 CC_O_20241126_000134 {\"WCSAXES\":2,\"CRPIX1\":2104.234496,\"CRPIX2\":2090.780895,\"PC1_1\":5.0049364571068e-05,\"PC1_2\":-2.4296678395023e-05,\"PC2_1\":-2.4329910755198e-05,\"PC2_2\":-5.0071238405668e-05,\"CDELT1\":1.0,\"CDELT2\":1.0,\"CUNIT1\":\"deg\",\"CUNIT2\":\"deg\",\"CTYPE1\":\"RA---TAN-SIP\",\"CTYPE2\":\"DEC--TAN-SIP\",\"CRVAL1\":38.188480325674,\"CRVAL2\":6.2514088148071,\"LONPOLE\":180.0,\"LATPOLE\":6.2514088148071,\"MJDREF\":0.0,\"RADESYS\":\"ICRS\",\"A_ORDER\":2,\"A_0_2\":5.71380993437748e-08,\"A_1_1\":8.4138548688458e-08,\"A_2_0\":1.34602072087139e-07,\"B_ORDER\":2,\"B_0_2\":1.29922197020279e-07,\"B_1_1\":9.30259268861285e-08,\"B_2_0\":5.08093732261702e-08,\"AP_ORDER\":3,\"AP_0_0\":2.38650612711241e-07,\"AP_0_1\":-1.9773730332761e-11,\"AP_0_2\":-5.7138214915058e-08,\"AP_0_3\":1.96568954030525e-14,\"AP_1_0\":-2.9495295095216e-11,\"AP_1_1\":-8.4138741264852e-08,\"AP_1_2\":4.40296314635341e-14,\"AP_2_0\":-1.3460222841301e-07,\"AP_2_1\":4.76169097340427e-14,\"AP_3_0\":4.05162046764094e-14,\"BP_ORDER\":3,\"BP_0_0\":2.2872495540209e-07,\"BP_0_1\":-2.0712098702801e-11,\"BP_0_2\":-1.2992234828618e-07,\"BP_0_3\":3.90781540503791e-14,\"BP_1_0\":-2.15361705159e-11,\"BP_1_1\":-9.3026118127959e-08,\"BP_1_2\":4.98983852539292e-14,\"BP_2_0\":-5.080948323256e-08,\"BP_2_1\":4.29343119560157e-14,\"BP_3_0\":1.84076385356384e-14,\"NAXIS1\":4072,\"NAXIS2\":4000}         30.0 LSSTComCam/runs/DRP/20241101_20241211/w_2024_50/DM-48128 goodSeeingDiff_differenceExp -70.7494170285165 -30.2446389756252 2662.99616375123              nan             nan      0.0 WCSAXES =                    2 / Number of coordinate axes                      CRPIX1  =               3000.0 / Pixel coordinate of reference point            CRPIX2  =               3000.0 / Pixel coordinate of reference point            CDELT1  = -5.5555555555556E-05 / [deg] Coordinate increment at reference point  CDELT2  =  5.5555555555556E-05 / [deg] Coordinate increment at reference point  CUNIT1  = 'deg'                / Units of coordinate increment and value        CUNIT2  = 'deg'                / Units of coordinate increment and value        CTYPE1  = 'RA---TAN'           / Right ascension, gnomonic projection           CTYPE2  = 'DEC--TAN'           / Declination, gnomonic projection               CRVAL1  =      38.666666666667 / [deg] Coordinate value at reference point      CRVAL2  =      6.8333333333333 / [deg] Coordinate value at reference point      LONPOLE =                180.0 / [deg] Native longitude of celestial pole       LATPOLE =      6.8333333333333 / [deg] Native latitude of celestial pole        MJDREF  =                  0.0 / [d] MJD of fiducial time                       RADESYS = 'ICRS'               / Equatorial coordinate system                   END                                                                                                                                                                                                                                                                                                                                                                                                                                                                                                                                                                                                                                                                                                                                                                                                                                                                                                                                                                                                                                                                                                                                                                                                                                                                                                                                                                                                                                                                                                                                                                                                                                                                                                                                                                  6000                     6000"
      ]
     },
     "execution_count": 9,
     "metadata": {},
     "output_type": "execute_result"
    }
   ],
   "source": [
    "# Example row from the ImageCollection\n",
    "ic[0]"
   ]
  },
  {
   "cell_type": "code",
   "execution_count": 12,
   "id": "b07dab74-3f97-4afa-ad47-b0ff297c877b",
   "metadata": {
    "execution": {
     "iopub.execute_input": "2025-01-23T17:23:47.689237Z",
     "iopub.status.busy": "2025-01-23T17:23:47.689060Z",
     "iopub.status.idle": "2025-01-23T17:23:47.691753Z",
     "shell.execute_reply": "2025-01-23T17:23:47.691377Z",
     "shell.execute_reply.started": "2025-01-23T17:23:47.689219Z"
    }
   },
   "outputs": [],
   "source": [
    "def update_ic_meta(ic):\n",
    "    ic.meta['n_stds'] = len(ic)\n",
    "    ic.data['std_idx'] = range(len(ic))\n",
    "    return ic"
   ]
  },
  {
   "cell_type": "code",
   "execution_count": 13,
   "id": "a56db226-e63a-4a31-8bd8-699cc07618c2",
   "metadata": {
    "execution": {
     "iopub.execute_input": "2025-01-23T17:23:51.830971Z",
     "iopub.status.busy": "2025-01-23T17:23:51.830615Z",
     "iopub.status.idle": "2025-01-23T17:23:51.880349Z",
     "shell.execute_reply": "2025-01-23T17:23:51.879962Z",
     "shell.execute_reply.started": "2025-01-23T17:23:51.830951Z"
    }
   },
   "outputs": [],
   "source": [
    "ic = update_ic_meta(ic)\n",
    "ic.write(colfile, overwrite=True)"
   ]
  },
  {
   "cell_type": "code",
   "execution_count": 14,
   "id": "d05f0290-b017-4463-9f10-bfe328aef9fa",
   "metadata": {
    "execution": {
     "iopub.execute_input": "2025-01-23T17:23:53.606062Z",
     "iopub.status.busy": "2025-01-23T17:23:53.605812Z",
     "iopub.status.idle": "2025-01-23T17:23:53.608261Z",
     "shell.execute_reply": "2025-01-23T17:23:53.607765Z",
     "shell.execute_reply.started": "2025-01-23T17:23:53.606047Z"
    }
   },
   "outputs": [],
   "source": [
    "# If the Jupyter server was capable of generating the WorkUnit, this would be the code to run.\n",
    "# search_config_filepath = configfile\n",
    "# wu = ic.toWorkUnit(search_config=SearchConfiguration.from_file(search_config_filepath), butler=butler)"
   ]
  },
  {
   "cell_type": "code",
   "execution_count": 15,
   "id": "6ac14f3a-35e8-43fa-b629-2a976497cb2f",
   "metadata": {
    "execution": {
     "iopub.execute_input": "2025-01-23T17:23:54.670469Z",
     "iopub.status.busy": "2025-01-23T17:23:54.670302Z",
     "iopub.status.idle": "2025-01-23T17:23:54.673643Z",
     "shell.execute_reply": "2025-01-23T17:23:54.673235Z",
     "shell.execute_reply.started": "2025-01-23T17:23:54.670453Z"
    }
   },
   "outputs": [],
   "source": []
  },
  {
   "cell_type": "code",
   "execution_count": 16,
   "id": "78e27abc-62f9-472e-895e-b5f74ccf75d9",
   "metadata": {
    "execution": {
     "iopub.execute_input": "2025-01-23T17:23:55.857197Z",
     "iopub.status.busy": "2025-01-23T17:23:55.857029Z",
     "iopub.status.idle": "2025-01-23T17:24:33.551801Z",
     "shell.execute_reply": "2025-01-23T17:24:33.551336Z",
     "shell.execute_reply.started": "2025-01-23T17:23:55.857176Z"
    }
   },
   "outputs": [
    {
     "name": "stdout",
     "output_type": "stream",
     "text": [
      "CPU times: user 11.3 s, sys: 25.9 s, total: 37.2 s\n",
      "Wall time: 37.7 s\n"
     ]
    }
   ],
   "source": [
    "%%time\n",
    "wu = kbmod.work_unit.WorkUnit.from_sharded_fits(wu_file, workdir, lazy=False) # directory_containing_shards\n",
    "print(f'Loaded {len(wu)} images from {wu_filename}.')"
   ]
  },
  {
   "cell_type": "markdown",
   "id": "43a8d772-89a0-4d32-9010-f300d538a9f3",
   "metadata": {},
   "source": [
    "## Create reflex-corrected WCS for each image"
   ]
  },
  {
   "cell_type": "code",
   "execution_count": 25,
   "id": "2a05a0cf-fddd-4bf7-88e0-10cbcbc7e5fe",
   "metadata": {
    "execution": {
     "iopub.execute_input": "2025-01-23T04:38:51.745373Z",
     "iopub.status.busy": "2025-01-23T04:38:51.745281Z",
     "iopub.status.idle": "2025-01-23T04:39:17.993629Z",
     "shell.execute_reply": "2025-01-23T04:39:17.993355Z",
     "shell.execute_reply.started": "2025-01-23T04:38:51.745364Z"
    }
   },
   "outputs": [
    {
     "name": "stdout",
     "output_type": "stream",
     "text": [
      "CPU times: user 25.8 s, sys: 56.6 ms, total: 25.9 s\n",
      "Wall time: 26.2 s\n"
     ]
    }
   ],
   "source": [
    "%%time\n",
    "#! This method to get image dimensions won't hold if the images are different sizes.\n",
    "image_height, image_width = wu.get_wcs(0).array_shape\n",
    "\n",
    "# Find the estimated barycentric distance (EBD) world coordinate system (WCS) for each image\n",
    "ebd_per_image_wcs, geocentric_dists = kbmod.reprojection_utils.transform_wcses_to_ebd(\n",
    "    [wu.get_wcs(i) for i in range(len(wu))],\n",
    "    width=image_width,\n",
    "    height=image_height,\n",
    "    heliocentric_distance=guess_dist, # heliocentric guess distance in AU\n",
    "    obstimes = Time(wu.get_all_obstimes(), format=\"mjd\"),\n",
    "    point_on_earth=EarthLocation.of_site(\"Rubin Observatory\"),\n",
    "    npoints=10,\n",
    "    # seed=None,\n",
    ")\n",
    "\n",
    "# Updating WorkUnit metadata\n",
    "wu.org_img_meta[\"ebd_wcs\"] = ebd_per_image_wcs\n",
    "wu.heliocentric_distance = guess_dist\n",
    "wu.org_img_meta[\"geocentric_distance\"] = geocentric_dists"
   ]
  },
  {
   "cell_type": "markdown",
   "id": "aef5f394-6c90-4de1-acc3-3352cf743c9e",
   "metadata": {},
   "source": [
    "## Reprojecting images to common WCS\n",
    "#### Here, we create mosaics from the input images and handle arbitrary image rotation."
   ]
  },
  {
   "cell_type": "code",
   "execution_count": 26,
   "id": "d272002f-cff6-4536-b9e5-da31076ff28c",
   "metadata": {
    "execution": {
     "iopub.execute_input": "2025-01-23T04:39:17.994567Z",
     "iopub.status.busy": "2025-01-23T04:39:17.994442Z",
     "iopub.status.idle": "2025-01-23T05:20:40.183136Z",
     "shell.execute_reply": "2025-01-23T05:20:40.182824Z",
     "shell.execute_reply.started": "2025-01-23T04:39:17.994557Z"
    }
   },
   "outputs": [
    {
     "name": "stderr",
     "output_type": "stream",
     "text": [
      "Reprojecting: 100%|██████████| 57/57 [41:12]\n"
     ]
    },
    {
     "name": "stdout",
     "output_type": "stream",
     "text": [
      "CPU times: user 18.6 s, sys: 1min 17s, total: 1min 36s\n",
      "Wall time: 41min 22s\n"
     ]
    }
   ],
   "source": [
    "%%time\n",
    "common_wcs = WCS(ic.data['global_wcs'][0])\n",
    "common_wcs.pixel_shape = (ic.data['global_wcs_pixel_shape_0'][0], ic.data['global_wcs_pixel_shape_1'][0])\n",
    "\n",
    "reprojected_wu = reprojection.reproject_work_unit(\n",
    "    wu,\n",
    "    common_wcs,\n",
    "    parallelize=True,\n",
    "    frame=\"ebd\",\n",
    "    # max_parallel_processes=8,\n",
    ")\n",
    "\n",
    "# assign the prescribed guess distance to the WorkUnit metadata.\n",
    "reprojected_wu.heliocentric_distance = guess_dist"
   ]
  },
  {
   "cell_type": "code",
   "execution_count": 23,
   "id": "0d81d86f-778d-41a5-a5a0-94816fc5cee8",
   "metadata": {
    "execution": {
     "iopub.execute_input": "2025-01-23T19:00:56.410881Z",
     "iopub.status.busy": "2025-01-23T19:00:56.410687Z",
     "iopub.status.idle": "2025-01-23T19:00:56.413190Z",
     "shell.execute_reply": "2025-01-23T19:00:56.412801Z",
     "shell.execute_reply.started": "2025-01-23T19:00:56.410865Z"
    }
   },
   "outputs": [],
   "source": [
    "repro_workunit_filename = wu_file + '.repro'"
   ]
  },
  {
   "cell_type": "code",
   "execution_count": 28,
   "id": "ce67680f-fb75-4c00-b025-8fa34ee543dc",
   "metadata": {
    "execution": {
     "iopub.execute_input": "2025-01-23T05:24:34.735515Z",
     "iopub.status.busy": "2025-01-23T05:24:34.735361Z",
     "iopub.status.idle": "2025-01-23T05:24:46.817590Z",
     "shell.execute_reply": "2025-01-23T05:24:46.817269Z",
     "shell.execute_reply.started": "2025-01-23T05:24:34.735504Z"
    }
   },
   "outputs": [],
   "source": [
    "# Save the reprojected WorkUnit\n",
    "reprojected_wu.to_sharded_fits(repro_workunit_filename, repro_shard_dir, overwrite=True)"
   ]
  },
  {
   "cell_type": "code",
   "execution_count": 15,
   "id": "4b5fa560-5c30-4e7a-8596-40802a9c7b23",
   "metadata": {
    "execution": {
     "iopub.execute_input": "2025-01-23T05:50:29.692104Z",
     "iopub.status.busy": "2025-01-23T05:50:29.691882Z",
     "iopub.status.idle": "2025-01-23T05:50:49.685267Z",
     "shell.execute_reply": "2025-01-23T05:50:49.684517Z",
     "shell.execute_reply.started": "2025-01-23T05:50:29.692089Z"
    }
   },
   "outputs": [],
   "source": [
    "# Load the previously saved reprojected WorkUnit\n",
    "reprojected_wu = kbmod.work_unit.WorkUnit.from_sharded_fits(repro_workunit_filename, repro_shard_dir, lazy=False)\n",
    "reprojected_wu.heliocentric_distance = guess_dist # TODO: remove"
   ]
  },
  {
   "cell_type": "code",
   "execution_count": 20,
   "id": "2a7ee9f4-e871-4161-a21b-b64c4eaebebd",
   "metadata": {
    "execution": {
     "iopub.execute_input": "2025-01-23T18:36:42.665819Z",
     "iopub.status.busy": "2025-01-23T18:36:42.665622Z",
     "iopub.status.idle": "2025-01-23T18:36:42.688698Z",
     "shell.execute_reply": "2025-01-23T18:36:42.687960Z",
     "shell.execute_reply.started": "2025-01-23T18:36:42.665798Z"
    }
   },
   "outputs": [
    {
     "ename": "NameError",
     "evalue": "name 'resampled_wu' is not defined",
     "output_type": "error",
     "traceback": [
      "\u001b[0;31m---------------------------------------------------------------------------\u001b[0m",
      "\u001b[0;31mNameError\u001b[0m                                 Traceback (most recent call last)",
      "Cell \u001b[0;32mIn[20], line 5\u001b[0m\n\u001b[1;32m      3\u001b[0m os\u001b[38;5;241m.\u001b[39mmakedirs(resultsdir, exist_ok\u001b[38;5;241m=\u001b[39m\u001b[38;5;28;01mTrue\u001b[39;00m)\n\u001b[1;32m      4\u001b[0m full_results \u001b[38;5;241m=\u001b[39m os\u001b[38;5;241m.\u001b[39mpath\u001b[38;5;241m.\u001b[39mjoin(resultsdir, \u001b[38;5;124m'\u001b[39m\u001b[38;5;124mfull_results.ecsv\u001b[39m\u001b[38;5;124m'\u001b[39m)\n\u001b[0;32m----> 5\u001b[0m \u001b[43mresampled_wu\u001b[49m\u001b[38;5;241m.\u001b[39mconfig \u001b[38;5;241m=\u001b[39m config\n",
      "\u001b[0;31mNameError\u001b[0m: name 'resampled_wu' is not defined"
     ]
    }
   ],
   "source": [
    "# Modify and update the kbmod configuration based on the .yaml file.\n",
    "config = kbmod.configuration.SearchConfiguration.from_file(configfile)\n",
    "resultsdir = f'{workdir}/results'\n",
    "os.makedirs(resultsdir, exist_ok=True)\n",
    "full_results = os.path.join(resultsdir, 'full_results.ecsv')\n",
    "reprojected_wu.config = config"
   ]
  },
  {
   "cell_type": "markdown",
   "id": "f46e1f3d-d518-4206-b2d8-974b77e1b0b4",
   "metadata": {},
   "source": [
    "## Run the KBMOD search"
   ]
  },
  {
   "cell_type": "code",
   "execution_count": 17,
   "id": "540b3ef7-ef00-48c7-a11f-e8cc82a3d5b2",
   "metadata": {
    "execution": {
     "iopub.execute_input": "2025-01-23T05:50:54.148271Z",
     "iopub.status.busy": "2025-01-23T05:50:54.148073Z",
     "iopub.status.idle": "2025-01-23T06:22:25.434421Z",
     "shell.execute_reply": "2025-01-23T06:22:25.433917Z",
     "shell.execute_reply.started": "2025-01-23T05:50:54.148253Z"
    }
   },
   "outputs": [
    {
     "name": "stderr",
     "output_type": "stream",
     "text": [
      "WARNING:2025-01-23 05:54:32,109:jax._src.xla_bridge:969: An NVIDIA GPU may be present on this machine, but a CUDA-enabled jaxlib is not installed. Falling back to cpu.\n",
      "WARNING:jax._src.xla_bridge:An NVIDIA GPU may be present on this machine, but a CUDA-enabled jaxlib is not installed. Falling back to cpu.\n"
     ]
    },
    {
     "name": "stdout",
     "output_type": "stream",
     "text": [
      "CPU times: user 30min 55s, sys: 4min 5s, total: 35min 1s\n",
      "Wall time: 31min 31s\n"
     ]
    }
   ],
   "source": [
    "%%time\n",
    "res = kbmod.run_search.SearchRunner().run_search_from_work_unit(reprojected_wu)\n",
    "res.write_table(full_results)\n",
    "print(f'Found {len(res)} results spanning {len(reprojected_wu} unique timestamps/images.')"
   ]
  },
  {
   "cell_type": "markdown",
   "id": "9532b7ce-cff9-46a8-a627-8b03733f4b7d",
   "metadata": {
    "execution": {
     "iopub.execute_input": "2025-01-23T18:52:56.720634Z",
     "iopub.status.busy": "2025-01-23T18:52:56.720373Z",
     "iopub.status.idle": "2025-01-23T18:52:56.723069Z",
     "shell.execute_reply": "2025-01-23T18:52:56.722676Z",
     "shell.execute_reply.started": "2025-01-23T18:52:56.720618Z"
    }
   },
   "source": [
    "## Visualize Results\n",
    "#### Here we visualize results in the form of co-added image cutouts and display the results table."
   ]
  },
  {
   "cell_type": "code",
   "execution_count": 2,
   "id": "4cbd35dd-a7f8-4825-9935-86fd7cca15ee",
   "metadata": {},
   "outputs": [
    {
     "name": "stdout",
     "output_type": "stream",
     "text": [
      "Image data will display here during the live demo.\n"
     ]
    }
   ],
   "source": [
    "# choose which flavor of result image to visualize\n",
    "embargo_ok = False\n",
    "if embargo_ok == True:\n",
    "    res.table[\"stamp\"] = res.table[\"coadd_weighted\"]\n",
    "    \n",
    "    viz = Visualizer(reprojected_wu.im_stack, res)\n",
    "    viz.generate_all_stamps()\n",
    "    viz.count_num_days()\n",
    "    \n",
    "    for res_idx in range(len(res)):\n",
    "        viz.plot_daily_coadds(res_idx)\n",
    "else:\n",
    "    print(f'Image data will display here during the live demo.')"
   ]
  },
  {
   "cell_type": "code",
   "execution_count": 18,
   "id": "2e0c7904-3356-41c1-bc93-502ceeafa499",
   "metadata": {
    "execution": {
     "iopub.execute_input": "2025-01-23T18:03:00.398969Z",
     "iopub.status.busy": "2025-01-23T18:03:00.398786Z",
     "iopub.status.idle": "2025-01-23T18:03:00.628361Z",
     "shell.execute_reply": "2025-01-23T18:03:00.627746Z",
     "shell.execute_reply.started": "2025-01-23T18:03:00.398953Z"
    }
   },
   "outputs": [
    {
     "ename": "NameError",
     "evalue": "name 'res' is not defined",
     "output_type": "error",
     "traceback": [
      "\u001b[0;31m---------------------------------------------------------------------------\u001b[0m",
      "\u001b[0;31mNameError\u001b[0m                                 Traceback (most recent call last)",
      "Cell \u001b[0;32mIn[18], line 1\u001b[0m\n\u001b[0;32m----> 1\u001b[0m \u001b[43mres\u001b[49m\u001b[38;5;241m.\u001b[39mtable\n",
      "\u001b[0;31mNameError\u001b[0m: name 'res' is not defined"
     ]
    }
   ],
   "source": [
    "# Display the results table\n",
    "res.table"
   ]
  },
  {
   "cell_type": "code",
   "execution_count": null,
   "id": "7fe727be-e505-4829-95e1-f28f327825d8",
   "metadata": {},
   "outputs": [],
   "source": []
  },
  {
   "cell_type": "code",
   "execution_count": null,
   "id": "f9767ac3-53b0-47dc-adf9-95ea9b4a6d95",
   "metadata": {},
   "outputs": [],
   "source": [
    "# TODO: add matching to known objects"
   ]
  }
 ],
 "metadata": {
  "kernelspec": {
   "display_name": "Python 3 (ipykernel)",
   "language": "python",
   "name": "python3"
  },
  "language_info": {
   "codemirror_mode": {
    "name": "ipython",
    "version": 3
   },
   "file_extension": ".py",
   "mimetype": "text/x-python",
   "name": "python",
   "nbconvert_exporter": "python",
   "pygments_lexer": "ipython3",
   "version": "3.12.3"
  }
 },
 "nbformat": 4,
 "nbformat_minor": 5
}
