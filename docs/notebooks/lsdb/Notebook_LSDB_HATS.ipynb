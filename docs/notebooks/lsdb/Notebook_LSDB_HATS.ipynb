{
 "cells": [
  {
   "cell_type": "markdown",
   "id": "4f0833f4",
   "metadata": {},
   "source": [
    "**Author:** Neven Caplar and the LINCC Frameworks team \\\n",
    "**Last updated:** February 3, 2025"
   ]
  },
  {
   "cell_type": "markdown",
   "id": "ff199ba4",
   "metadata": {},
   "source": [
    "# Demo: HATS and LSDB\n",
    "\n",
    "In this notebook we'll show how to:\n",
    "- Load object and source catalogs (lazily)\n",
    "- Perform crossmatching with existing `LSDB/HATS` catalogs\n",
    "- Discuss the performance\n",
    "- Save the results of a science workflow to disk\n",
    "\n",
    "There is also an \"Extra topics\" section with details on margin caches."
   ]
  },
  {
   "cell_type": "code",
   "execution_count": null,
   "id": "df2de7d6-f13e-4015-8193-a505dc84723e",
   "metadata": {
    "execution": {
     "iopub.execute_input": "2024-11-08T16:19:36.943157Z",
     "iopub.status.busy": "2024-11-08T16:19:36.942901Z",
     "iopub.status.idle": "2024-11-08T16:19:49.374777Z",
     "shell.execute_reply": "2024-11-08T16:19:49.374334Z",
     "shell.execute_reply.started": "2024-11-08T16:19:36.943143Z"
    }
   },
   "outputs": [],
   "source": [
    "# !pip install -q -r requirements.txt"
   ]
  },
  {
   "cell_type": "code",
   "execution_count": null,
   "id": "67d7dca3-9ef8-43fb-a66c-a8caa40d8e26",
   "metadata": {
    "execution": {
     "iopub.execute_input": "2024-11-08T16:19:49.375403Z",
     "iopub.status.busy": "2024-11-08T16:19:49.375257Z",
     "iopub.status.idle": "2024-11-08T16:19:51.679668Z",
     "shell.execute_reply": "2024-11-08T16:19:51.679287Z",
     "shell.execute_reply.started": "2024-11-08T16:19:49.375387Z"
    },
    "tags": []
   },
   "outputs": [],
   "source": [
    "# Standard library imports\n",
    "import os\n",
    "\n",
    "# Third-party imports\n",
    "import numpy as np\n",
    "import dask\n",
    "import matplotlib as mpl\n",
    "import matplotlib.pyplot as plt\n",
    "from matplotlib import rcParams\n",
    "import astropy.units as u\n",
    "from astropy.coordinates import SkyCoord, Angle\n",
    "import warnings\n",
    "from upath import UPath\n",
    "\n",
    "# Local library-specific imports\n",
    "import hats\n",
    "import lsdb\n",
    "from lsdb.core.search import ConeSearch\n",
    "from hats.io.file_io import read_parquet_metadata\n",
    "from hats.inspection import plot_density\n",
    "\n",
    "# Jupyter-specific settings and magic commands\n",
    "%matplotlib inline\n",
    "\n",
    "# Configuration settings\n",
    "rcParams[\"savefig.dpi\"] = 550\n",
    "rcParams[\"font.size\"] = 20\n",
    "plt.rc(\"font\", family=\"serif\")\n",
    "mpl.rcParams[\"axes.linewidth\"] = 2\n",
    "# Set to the maximum number of threads you want to allow\n",
    "os.environ[\"NUMEXPR_MAX_THREADS\"] = \"64\"\n",
    "# Set to the number of threads to actually use\n",
    "os.environ[\"NUMEXPR_NUM_THREADS\"] = \"8\"\n",
    "dask.config.set({\"dataframe.convert-string\": False})\n",
    "warnings.simplefilter(\"ignore\", DeprecationWarning)\n",
    "\n",
    "print(f\"Version of lsdb is {lsdb.__version__}\")"
   ]
  },
  {
   "cell_type": "markdown",
   "id": "f5ddf372",
   "metadata": {},
   "source": [
    "We have numerous public catalogs available through [`data.lsdb.io`](https://data.lsdb.io)."
   ]
  },
  {
   "cell_type": "code",
   "execution_count": null,
   "id": "06790ed5-de0d-4aa1-8bef-6ebc462d38f1",
   "metadata": {
    "execution": {
     "iopub.execute_input": "2024-11-08T16:19:51.680472Z",
     "iopub.status.busy": "2024-11-08T16:19:51.680097Z",
     "iopub.status.idle": "2024-11-08T16:19:51.682745Z",
     "shell.execute_reply": "2024-11-08T16:19:51.682410Z",
     "shell.execute_reply.started": "2024-11-08T16:19:51.680456Z"
    },
    "tags": []
   },
   "outputs": [],
   "source": [
    "catalogs_dir = UPath(\"https://data.lsdb.io/hats\")\n",
    "\n",
    "# Gaia\n",
    "gaia_path = catalogs_dir / \"gaia_dr3\" / \"gaia\"\n",
    "\n",
    "# ZTF\n",
    "ztf_object_path = catalogs_dir / \"ztf_dr14\" / \"ztf_object\"\n",
    "ztf_source_path = catalogs_dir / \"ztf_dr14\" / \"ztf_source\"\n",
    "ztf_object_margin_path = catalogs_dir / \"ztf_dr14\" / \"ztf_object_10arcs\""
   ]
  },
  {
   "cell_type": "code",
   "execution_count": null,
   "id": "6545ef59-f273-4bd7-bc70-c24488e41804",
   "metadata": {
    "execution": {
     "iopub.execute_input": "2024-11-08T16:19:51.683344Z",
     "iopub.status.busy": "2024-11-08T16:19:51.683111Z",
     "iopub.status.idle": "2024-11-08T16:19:58.664320Z",
     "shell.execute_reply": "2024-11-08T16:19:58.663929Z",
     "shell.execute_reply.started": "2024-11-08T16:19:51.683332Z"
    },
    "tags": []
   },
   "outputs": [],
   "source": [
    "%%time\n",
    "\n",
    "# Define a 1 degree cone region of interest\n",
    "cone_search = ConeSearch(ra=10, dec=40, radius_arcsec=1 * 3600)\n",
    "\n",
    "# Load lite version of Gaia DR3 (RA and DEC data only)\n",
    "gaia_lite = lsdb.read_hats(gaia_path, columns=[\"ra\", \"dec\"], search_filter=cone_search)\n",
    "\n",
    "# Load all Gaia data for the cone\n",
    "hats_gaia = hats.read_hats(gaia_path)\n",
    "gaia = lsdb.read_hats(gaia_path, columns=hats_gaia.schema.names)"
   ]
  },
  {
   "cell_type": "markdown",
   "id": "e5d0d32827fe4955",
   "metadata": {},
   "source": [
    "## Reading Parquet Metadata\n",
    "\n",
    "HATS uses the Parquet file format to store catalogs. Parquet is a binary columnar data format, which means that information is efficiently encoded and compressed in binary format on disk, and is stored column wise in a way which allows efficiently loading only a subset of the columns. With each column, Parquet stores the column's metadata, including the column's name and data type.\n",
    "\n",
    "Parquet also supports large datasets being partitioned into multiple files that are easier to work with individually. With a partitioned dataset, like HATS uses, there are metadata files at the root folder containing the partitioned files that store the combined and common metadata of each of the individual partition files metadata. Here, we can read this `_common_metadata` which includes the schema of the dataset, consisting of the column metadata for all the columns in the dataset."
   ]
  },
  {
   "cell_type": "code",
   "execution_count": null,
   "id": "3531c7b7",
   "metadata": {
    "execution": {
     "iopub.execute_input": "2024-11-08T16:19:58.665024Z",
     "iopub.status.busy": "2024-11-08T16:19:58.664750Z",
     "iopub.status.idle": "2024-11-08T16:19:58.928927Z",
     "shell.execute_reply": "2024-11-08T16:19:58.928566Z",
     "shell.execute_reply.started": "2024-11-08T16:19:58.665011Z"
    }
   },
   "outputs": [],
   "source": [
    "list(read_parquet_metadata(gaia_path / \"dataset\" / \"_common_metadata\").schema)[:2]"
   ]
  },
  {
   "cell_type": "markdown",
   "id": "a7065345d27baa23",
   "metadata": {},
   "source": [
    "## Lazy Operations\n",
    "\n",
    "When working with large datasets, there is too much data to be loaded into memory at once. To get around this, LSDB uses the HATS format which partitions a catalog into HEALPix cells and works on one partition at a time. This also allows the computation to be parallelized to work on multiple partitions at once. In order to efficiently carry out pipelines of operations though, it's better to batch operations so that multiple operations can be done back to back on the same partition instead of having to load and save each partition from storage after every operation.\n",
    "\n",
    "For this reason, operations in LSDB are performed 'lazily'. This means when a catalog is read using `read_hats`, the actual catalog data isn't being read from storage. Instead, it only loads the metadata such as the column schema and the HEALPix structure of the partitions. When an operation like `cone_search` is called on a catalog, the data is not actually loaded and operated on when the line of code is executed. Instead, the catalog keeps track of the operations that it needs to perform so the entire pipeline can be efficiently run later. This also allows us to optimize the pipeline by only loading the partitions that are necessary. For example when performing a cone search like we do here, we only need the partitions that have data within the cone.\n",
    "\n",
    "![lazy loading diagram](https://raw.githubusercontent.com/astronomy-commons/lsdb/main/docs/_static/lazy_diagram.svg)\n",
    "\n",
    "So when we look at a catalog that has been lazy loaded we see the DataFrame without the data, just the columns and the number of partitions (including the HATS index of each partition encoding which HEALPix cell the partition is in). "
   ]
  },
  {
   "cell_type": "code",
   "execution_count": null,
   "id": "2323ac83",
   "metadata": {
    "execution": {
     "iopub.execute_input": "2024-11-08T16:19:58.930481Z",
     "iopub.status.busy": "2024-11-08T16:19:58.930152Z",
     "iopub.status.idle": "2024-11-08T16:19:58.936608Z",
     "shell.execute_reply": "2024-11-08T16:19:58.936248Z",
     "shell.execute_reply.started": "2024-11-08T16:19:58.930467Z"
    }
   },
   "outputs": [],
   "source": [
    "gaia_lite"
   ]
  },
  {
   "cell_type": "markdown",
   "id": "53b33969a743777e",
   "metadata": {},
   "source": [
    "To load the data and perform the operations, call `compute()` which will load the necessary data and perform all the operations that have been called, and return a Pandas DataFrame with the results."
   ]
  },
  {
   "cell_type": "code",
   "execution_count": null,
   "id": "ddaed846",
   "metadata": {
    "execution": {
     "iopub.execute_input": "2024-11-08T16:19:58.937100Z",
     "iopub.status.busy": "2024-11-08T16:19:58.936975Z",
     "iopub.status.idle": "2024-11-08T16:20:00.958205Z",
     "shell.execute_reply": "2024-11-08T16:20:00.957778Z",
     "shell.execute_reply.started": "2024-11-08T16:19:58.937088Z"
    }
   },
   "outputs": [],
   "source": [
    "gaia_lite_computed = gaia_lite.compute()"
   ]
  },
  {
   "cell_type": "markdown",
   "id": "93146fe4",
   "metadata": {},
   "source": [
    "The Figure belows shows the simple graph that DASK makes to ''compute'' this operation."
   ]
  },
  {
   "cell_type": "code",
   "execution_count": null,
   "id": "4efd36c9",
   "metadata": {},
   "outputs": [],
   "source": [
    "gaia_lite._ddf.visualize()"
   ]
  },
  {
   "cell_type": "code",
   "execution_count": null,
   "id": "2cfb0776",
   "metadata": {
    "execution": {
     "iopub.execute_input": "2024-11-08T16:20:00.958925Z",
     "iopub.status.busy": "2024-11-08T16:20:00.958783Z",
     "iopub.status.idle": "2024-11-08T16:20:00.965191Z",
     "shell.execute_reply": "2024-11-08T16:20:00.964810Z",
     "shell.execute_reply.started": "2024-11-08T16:20:00.958912Z"
    }
   },
   "outputs": [],
   "source": [
    "gaia_lite_computed"
   ]
  },
  {
   "cell_type": "markdown",
   "id": "e737f746828ae10e",
   "metadata": {},
   "source": [
    "## HATS (Hierarchal Adaptive Tiling Scheme) Partitioning\n",
    "\n",
    "To make it easier and more efficient to perform operations in parallel, HATS partitions contain roughly the same number of rows. This is done by using different HEALPix pixel sizes for different parts of the sky depending on the density of sources. This means catalogs with more rows will have smaller pixels for each partition, and so will have more partitions overall. We can see this below with the ZTF object and source catalogs, where the source catalog with many more data points has more partitions to keep the size of each partition consistent."
   ]
  },
  {
   "cell_type": "code",
   "execution_count": null,
   "id": "b9c4d77f-c530-4a51-955e-c33c7d3439a3",
   "metadata": {
    "execution": {
     "iopub.execute_input": "2024-11-08T16:20:00.965819Z",
     "iopub.status.busy": "2024-11-08T16:20:00.965576Z",
     "iopub.status.idle": "2024-11-08T16:20:09.413060Z",
     "shell.execute_reply": "2024-11-08T16:20:09.412671Z",
     "shell.execute_reply.started": "2024-11-08T16:20:00.965785Z"
    },
    "tags": []
   },
   "outputs": [],
   "source": [
    "%%time\n",
    "ztf_object = lsdb.read_hats(ztf_object_path, columns=[\"ra\", \"dec\"])  # ZTF Object\n",
    "ztf_source = lsdb.read_hats(ztf_source_path, columns=[\"ra\", \"dec\"])  # ZTF Source"
   ]
  },
  {
   "cell_type": "code",
   "execution_count": null,
   "id": "92d8dfd1",
   "metadata": {
    "execution": {
     "iopub.execute_input": "2024-11-08T16:20:09.413759Z",
     "iopub.status.busy": "2024-11-08T16:20:09.413481Z",
     "iopub.status.idle": "2024-11-08T16:20:09.420833Z",
     "shell.execute_reply": "2024-11-08T16:20:09.420516Z",
     "shell.execute_reply.started": "2024-11-08T16:20:09.413746Z"
    }
   },
   "outputs": [],
   "source": [
    "ztf_object"
   ]
  },
  {
   "cell_type": "code",
   "execution_count": null,
   "id": "81c297be",
   "metadata": {
    "execution": {
     "iopub.execute_input": "2024-11-08T16:20:09.421417Z",
     "iopub.status.busy": "2024-11-08T16:20:09.421190Z",
     "iopub.status.idle": "2024-11-08T16:20:09.457334Z",
     "shell.execute_reply": "2024-11-08T16:20:09.456978Z",
     "shell.execute_reply.started": "2024-11-08T16:20:09.421406Z"
    }
   },
   "outputs": [],
   "source": [
    "ztf_source"
   ]
  },
  {
   "cell_type": "code",
   "execution_count": null,
   "id": "142d8311",
   "metadata": {
    "execution": {
     "iopub.execute_input": "2024-11-08T16:20:09.457859Z",
     "iopub.status.busy": "2024-11-08T16:20:09.457733Z",
     "iopub.status.idle": "2024-11-08T16:20:09.460586Z",
     "shell.execute_reply": "2024-11-08T16:20:09.460280Z",
     "shell.execute_reply.started": "2024-11-08T16:20:09.457848Z"
    }
   },
   "outputs": [],
   "source": [
    "# Define the center of the field of view\n",
    "# For example: Right Ascension (RA) = 10 degrees, Declination (Dec) = 40 degrees\n",
    "center = SkyCoord(ra=10 * u.deg, dec=40 * u.deg, frame=\"icrs\")\n",
    "\n",
    "# Define the field of view extent\n",
    "# For example, using a radius of 1 degree\n",
    "fov_radius = Angle(1, unit=u.deg)"
   ]
  },
  {
   "cell_type": "markdown",
   "id": "8278461c7eab4be3",
   "metadata": {},
   "source": [
    "We can see this difference in partition pixel sizes by plotting the HEALPix pixels of the partitions in the catalogs."
   ]
  },
  {
   "cell_type": "code",
   "execution_count": null,
   "id": "fd9a13c8-2b6a-4327-9407-004a5e75824c",
   "metadata": {
    "execution": {
     "iopub.execute_input": "2024-11-08T16:20:09.461172Z",
     "iopub.status.busy": "2024-11-08T16:20:09.460958Z",
     "iopub.status.idle": "2024-11-08T16:20:10.120133Z",
     "shell.execute_reply": "2024-11-08T16:20:10.119735Z",
     "shell.execute_reply.started": "2024-11-08T16:20:09.461160Z"
    }
   },
   "outputs": [],
   "source": [
    "# Plot the pixel density map for ZTF object\n",
    "fig = plt.figure(figsize=(20, 10))\n",
    "_, ax = ztf_object.plot_pixels(fig=fig)\n",
    "cone_search.plot(edgecolor=\"black\", facecolor=\"none\", label=\"Cone\", linewidth=2)\n",
    "plt.legend(loc=\"lower left\")"
   ]
  },
  {
   "cell_type": "code",
   "execution_count": null,
   "id": "20b195aa-dca7-4612-adc7-fabf8e0ae7b2",
   "metadata": {
    "execution": {
     "iopub.execute_input": "2024-11-08T16:20:10.120692Z",
     "iopub.status.busy": "2024-11-08T16:20:10.120564Z",
     "iopub.status.idle": "2024-11-08T16:20:11.297358Z",
     "shell.execute_reply": "2024-11-08T16:20:11.296891Z",
     "shell.execute_reply.started": "2024-11-08T16:20:10.120679Z"
    }
   },
   "outputs": [],
   "source": [
    "# Plot the pixel density map for ZTF sources\n",
    "fig2 = plt.figure(figsize=(20, 10))\n",
    "_, ax = ztf_source.plot_pixels(fig=fig2)\n",
    "cone_search.plot(edgecolor=\"black\", facecolor=\"none\", label=\"Cone\", linewidth=2)\n",
    "plt.legend(loc=\"lower left\")"
   ]
  },
  {
   "cell_type": "markdown",
   "id": "da3ac3f2-f0ca-4bb3-bf01-aec0ef8f20f8",
   "metadata": {},
   "source": [
    "If we zoom into the cone region we can observe the density of the ZTF HEALPix pixels in the region of interest."
   ]
  },
  {
   "cell_type": "code",
   "execution_count": null,
   "id": "f11df11a",
   "metadata": {
    "execution": {
     "iopub.execute_input": "2024-11-08T16:20:11.298094Z",
     "iopub.status.busy": "2024-11-08T16:20:11.297943Z",
     "iopub.status.idle": "2024-11-08T16:20:12.601982Z",
     "shell.execute_reply": "2024-11-08T16:20:12.601536Z",
     "shell.execute_reply.started": "2024-11-08T16:20:11.298082Z"
    }
   },
   "outputs": [],
   "source": [
    "# Observe the point density map in the cone region of interest\n",
    "fig3 = plt.figure(figsize=(20, 10))\n",
    "fov = (Angle(3, \"deg\"), Angle(3, \"deg\"))\n",
    "\n",
    "plot_density(ztf_object.hc_structure, fig=fig3, center=center, fov=fov)\n",
    "\n",
    "cone_search.plot(edgecolor=\"orange\", facecolor=\"none\", label=\"Cone\", linewidth=3)\n",
    "\n",
    "plt.legend(loc=\"lower left\")"
   ]
  },
  {
   "cell_type": "markdown",
   "id": "b45fface",
   "metadata": {},
   "source": [
    "## Crossmatching\n",
    "\n",
    "Let's crossmatch our Gaia region with ZTF."
   ]
  },
  {
   "cell_type": "code",
   "execution_count": null,
   "id": "24a31eee",
   "metadata": {
    "execution": {
     "iopub.execute_input": "2024-11-08T16:20:12.602733Z",
     "iopub.status.busy": "2024-11-08T16:20:12.602488Z",
     "iopub.status.idle": "2024-11-08T16:20:12.607834Z",
     "shell.execute_reply": "2024-11-08T16:20:12.607514Z",
     "shell.execute_reply.started": "2024-11-08T16:20:12.602720Z"
    }
   },
   "outputs": [],
   "source": [
    "gaia_lite"
   ]
  },
  {
   "cell_type": "code",
   "execution_count": null,
   "id": "269681bd",
   "metadata": {
    "execution": {
     "iopub.execute_input": "2024-11-08T16:20:12.608440Z",
     "iopub.status.busy": "2024-11-08T16:20:12.608321Z",
     "iopub.status.idle": "2024-11-08T16:20:12.617027Z",
     "shell.execute_reply": "2024-11-08T16:20:12.616716Z",
     "shell.execute_reply.started": "2024-11-08T16:20:12.608429Z"
    }
   },
   "outputs": [],
   "source": [
    "ztf_object"
   ]
  },
  {
   "cell_type": "code",
   "execution_count": null,
   "id": "59d7fb2b",
   "metadata": {
    "execution": {
     "iopub.execute_input": "2024-11-08T16:20:12.617456Z",
     "iopub.status.busy": "2024-11-08T16:20:12.617345Z",
     "iopub.status.idle": "2024-11-08T16:20:13.333035Z",
     "shell.execute_reply": "2024-11-08T16:20:13.332619Z",
     "shell.execute_reply.started": "2024-11-08T16:20:12.617445Z"
    }
   },
   "outputs": [],
   "source": [
    "%time\n",
    "xmatch_object = gaia_lite.crossmatch(ztf_object)"
   ]
  },
  {
   "cell_type": "markdown",
   "id": "d352b462",
   "metadata": {},
   "source": [
    "### Crossmatching\n",
    "\n",
    "Catalogs have valuable metadata about their partitioning structure (e.g. the sky coverage and the order of the pixels at each point in the sky). LSDB takes advantage of this information for operations like joining/crossmatching to identify pairs of partitions that are spatially close to each other in the sky. Each core available to your distributed Dask client will process a pair of partitions at a time.\n",
    "\n",
    "![Crossmatch diagram](assets/crossmatch-diagram.png)\n",
    "\n"
   ]
  },
  {
   "cell_type": "markdown",
   "id": "d4506ef7",
   "metadata": {},
   "source": [
    "The benchmarking plot below demonstrates the performance of different methods forcross-matching using the nearest neighbor approach within 1 arcsecond. The LSDB approach (red lines) shows superior scalability as the number of cross-matched objects increases, particularly when leveraging parallel workers (e.g., 4, 16, and 64 workers). In comparison, traditional methods  become significantly slower as the dataset size grows. Additionally LSDB can also work on datasets that exceed the memory limits of the machine."
   ]
  },
  {
   "cell_type": "markdown",
   "id": "f778b190",
   "metadata": {},
   "source": [
    "![Crossmatch diagram](assets/crossmatching-performance.png)"
   ]
  },
  {
   "cell_type": "markdown",
   "id": "2a60cd4b4b2a00b7",
   "metadata": {},
   "source": [
    "## The `head` method\n",
    "\n",
    "For large operations we might want to see a small subset of the computed final data without doing the full computation. Like pandas, we can use the `head` operation to compute the first n rows of the final dataframe without computing the whole dataset."
   ]
  },
  {
   "cell_type": "code",
   "execution_count": null,
   "id": "e5a0d17d-5452-4f38-ae21-d3d893854965",
   "metadata": {
    "execution": {
     "iopub.execute_input": "2024-11-08T16:20:13.333809Z",
     "iopub.status.busy": "2024-11-08T16:20:13.333484Z",
     "iopub.status.idle": "2024-11-08T16:20:15.883396Z",
     "shell.execute_reply": "2024-11-08T16:20:15.883035Z",
     "shell.execute_reply.started": "2024-11-08T16:20:13.333796Z"
    },
    "tags": []
   },
   "outputs": [],
   "source": [
    "xmatch_object.head(5)"
   ]
  },
  {
   "cell_type": "markdown",
   "id": "e64a45a9fceccd06",
   "metadata": {},
   "source": [
    "Here we load the ZTF object catalog again, this time with all the columns that we'll need to perform the analysis later. \n",
    "\n",
    "Note the previous warning about margin caches. Margins allow you to crossmatch objects which might be just across the border, in the neighboring pixels, which you might miss if you only search among the objects in a given pixel. We'll also be specifying the margin for ZTF."
   ]
  },
  {
   "cell_type": "code",
   "execution_count": null,
   "id": "3d75601f-2fe6-4023-a530-2aa9eccf9100",
   "metadata": {
    "execution": {
     "iopub.execute_input": "2024-11-08T16:20:15.884082Z",
     "iopub.status.busy": "2024-11-08T16:20:15.883807Z",
     "iopub.status.idle": "2024-11-08T16:20:19.967080Z",
     "shell.execute_reply": "2024-11-08T16:20:19.966699Z",
     "shell.execute_reply.started": "2024-11-08T16:20:15.884069Z"
    },
    "tags": []
   },
   "outputs": [],
   "source": [
    "%%time\n",
    "# load ZTF with all columns and specify the margin cache!\n",
    "ztf_object_full = lsdb.read_hats(ztf_object_path, margin_cache=ztf_object_margin_path)"
   ]
  },
  {
   "cell_type": "code",
   "execution_count": null,
   "id": "0de81488-d15d-42cd-ac03-fa12318c0c36",
   "metadata": {
    "execution": {
     "iopub.execute_input": "2024-11-08T16:20:19.968930Z",
     "iopub.status.busy": "2024-11-08T16:20:19.968611Z",
     "iopub.status.idle": "2024-11-08T16:20:24.034790Z",
     "shell.execute_reply": "2024-11-08T16:20:24.034409Z",
     "shell.execute_reply.started": "2024-11-08T16:20:19.968917Z"
    },
    "tags": []
   },
   "outputs": [],
   "source": [
    "%%time\n",
    "# crossmatch ZTF + Gaia\n",
    "_all_sky_object = gaia.crossmatch(ztf_object_full).query(\n",
    "    \"nobs_g_ztf_dr14 > 50 and nobs_r_ztf_dr14 > 50 and \\\n",
    "    parallax_gaia > 0 and parallax_over_error_gaia > 5 and \\\n",
    "    teff_gspphot_gaia > 5380 and teff_gspphot_gaia < 7220 and logg_gspphot_gaia > 4.5 \\\n",
    "    and logg_gspphot_gaia < 4.72 and classprob_dsc_combmod_star_gaia > 0.5\"\n",
    ")"
   ]
  },
  {
   "cell_type": "code",
   "execution_count": null,
   "id": "0a712aac-3ccf-4bff-ae49-4450d626cee8",
   "metadata": {
    "execution": {
     "iopub.execute_input": "2024-11-08T16:20:24.035298Z",
     "iopub.status.busy": "2024-11-08T16:20:24.035169Z",
     "iopub.status.idle": "2024-11-08T16:20:42.792413Z",
     "shell.execute_reply": "2024-11-08T16:20:42.792009Z",
     "shell.execute_reply.started": "2024-11-08T16:20:24.035285Z"
    }
   },
   "outputs": [],
   "source": [
    "%%time\n",
    "total = _all_sky_object.compute()"
   ]
  },
  {
   "cell_type": "code",
   "execution_count": null,
   "id": "8da2f381-a506-4a7f-8b80-9e882ec92bd4",
   "metadata": {
    "execution": {
     "iopub.execute_input": "2024-11-08T16:20:42.793094Z",
     "iopub.status.busy": "2024-11-08T16:20:42.792824Z",
     "iopub.status.idle": "2024-11-08T16:20:42.808864Z",
     "shell.execute_reply": "2024-11-08T16:20:42.808538Z",
     "shell.execute_reply.started": "2024-11-08T16:20:42.793082Z"
    },
    "tags": []
   },
   "outputs": [],
   "source": [
    "# this is the dataframe with all the computed objects\n",
    "total"
   ]
  },
  {
   "cell_type": "markdown",
   "id": "f853643a",
   "metadata": {},
   "source": [
    "Let us now visualize the GAIA object that got matched and the all of the starting GAIA matches. The red circle shows the cone in which we conducted the cross-match. "
   ]
  },
  {
   "cell_type": "code",
   "execution_count": null,
   "id": "6081f008-2d73-4cfc-8f10-09c707e0079b",
   "metadata": {
    "execution": {
     "iopub.execute_input": "2024-11-08T16:20:42.809363Z",
     "iopub.status.busy": "2024-11-08T16:20:42.809239Z",
     "iopub.status.idle": "2024-11-08T16:20:43.381820Z",
     "shell.execute_reply": "2024-11-08T16:20:43.381427Z",
     "shell.execute_reply.started": "2024-11-08T16:20:42.809351Z"
    },
    "tags": []
   },
   "outputs": [],
   "source": [
    "plt.figure(figsize=(19, 12))\n",
    "\n",
    "# Main scatter plots\n",
    "plt.scatter(total[\"ra_gaia\"].values, total[\"dec_gaia\"].values, color=\"black\", s=2)\n",
    "plt.scatter(\n",
    "    gaia_lite_computed[\"ra\"], gaia_lite_computed[\"dec\"], color=\"blue\", s=0.8, alpha=0.1\n",
    ")\n",
    "\n",
    "# Add dummy scatter points for the legend with the same size\n",
    "plt.scatter(\n",
    "    [], [], color=\"black\", s=50, label=\"crossmatched data\"\n",
    ")  # Adjusted black dot size\n",
    "plt.scatter(\n",
    "    [], [], color=\"blue\", s=50, label=\"GAIA data\"\n",
    ")  # Ensure blue dot size remains prominent\n",
    "\n",
    "# Plot a circle around the center\n",
    "circle_coord = center.directional_offset_by(\n",
    "    position_angle=np.linspace(0, 360, 100) * u.deg, separation=1 * u.deg\n",
    ")\n",
    "plt.plot(circle_coord.ra.deg, circle_coord.dec.deg, color=\"red\")\n",
    "\n",
    "# Adjust the x-axis direction\n",
    "plt.gca().invert_xaxis()\n",
    "\n",
    "plt.axis(\"equal\")\n",
    "plt.xlabel(\"ra [deg]\")\n",
    "plt.ylabel(\"dec [deg]\")\n",
    "plt.legend(loc=\"lower right\")\n",
    "plt.show()"
   ]
  },
  {
   "cell_type": "markdown",
   "id": "bb44a061",
   "metadata": {},
   "source": [
    "## Export catalogs to disk\n",
    "\n",
    "Once the analysis is complete we can export our results in the HATS format. To do so you would uncomment the line below. You need to provide a base directory path for your catalog and you should also provide a catalog name that expresses the nature of your data. You can load the saved catalog back via LSDB, or you can load the parquet files that are saved to disk with any other parquet reader of your choice."
   ]
  },
  {
   "cell_type": "code",
   "execution_count": null,
   "id": "5c3c4f99",
   "metadata": {
    "execution": {
     "iopub.execute_input": "2024-11-08T16:20:43.382544Z",
     "iopub.status.busy": "2024-11-08T16:20:43.382262Z",
     "iopub.status.idle": "2024-11-08T16:20:43.384372Z",
     "shell.execute_reply": "2024-11-08T16:20:43.384030Z",
     "shell.execute_reply.started": "2024-11-08T16:20:43.382532Z"
    },
    "tags": []
   },
   "outputs": [],
   "source": [
    "# export crossmatched data to disk\n",
    "# _all_sky_object.to_hats(base_catalog_path=\"ztf_x_gaia\", catalog_name=\"ztf_x_gaia\")"
   ]
  },
  {
   "cell_type": "markdown",
   "id": "203c1c1d",
   "metadata": {},
   "source": [
    "## Extra topics"
   ]
  },
  {
   "cell_type": "markdown",
   "id": "62a74f84",
   "metadata": {},
   "source": [
    "### Margin caches\n",
    "\n",
    "Remember the **warning** about the missing margin cache?\n",
    "\n",
    "```\n",
    "RuntimeWarning: Right catalog does not have a margin cache. Results may be incomplete and/or inaccurate.\n",
    "```\n",
    "\n",
    "Margins are catalogs that specify what objects, for each pixel, are within a certain distance of their borders. They allows us to crossmatch objects which might be just across the border, in the neighboring pixels, which you might miss if you only search among the objects in a given pixel. \n",
    "\n",
    "In the image below we are trying to obtain the matches for the points in the \"green\" pixel. The closest match for the selected green object is in a different pixel. The closest green neighbor to this object is not even within the specified crossmatching radius (seen in dark green). This means that, without margin caches, this green object would simply not have a match, which is inaccurate!\n",
    "\n",
    "![Margin cache diagram](https://lsdb.readthedocs.io/en/stable/_images/pixel-boundary-example.png)"
   ]
  },
  {
   "cell_type": "markdown",
   "id": "00d5f48a",
   "metadata": {},
   "source": [
    "Notice that your crossmatching distance, `radius_arcsec`, should not be larger than your margin cache radius. You can usually infer the margin cache radius from the catalog name, or look for it programatically."
   ]
  },
  {
   "cell_type": "code",
   "execution_count": null,
   "id": "d5de7ef0",
   "metadata": {
    "execution": {
     "iopub.execute_input": "2024-11-08T16:20:43.384946Z",
     "iopub.status.busy": "2024-11-08T16:20:43.384731Z",
     "iopub.status.idle": "2024-11-08T16:20:43.389794Z",
     "shell.execute_reply": "2024-11-08T16:20:43.389500Z",
     "shell.execute_reply.started": "2024-11-08T16:20:43.384934Z"
    }
   },
   "outputs": [],
   "source": [
    "ztf_object_full.margin.hc_structure.catalog_info.margin_threshold"
   ]
  },
  {
   "cell_type": "code",
   "execution_count": null,
   "id": "adac56bc",
   "metadata": {},
   "outputs": [],
   "source": []
  }
 ],
 "metadata": {
  "kernelspec": {
   "display_name": "DeLucchi HATS",
   "language": "python",
   "name": "hatsenv"
  },
  "language_info": {
   "codemirror_mode": {
    "name": "ipython",
    "version": 3
   },
   "file_extension": ".py",
   "mimetype": "text/x-python",
   "name": "python",
   "nbconvert_exporter": "python",
   "pygments_lexer": "ipython3",
   "version": "3.10.15"
  },
  "toc-autonumbering": true,
  "toc-showmarkdowntxt": true
 },
 "nbformat": 4,
 "nbformat_minor": 5
}
